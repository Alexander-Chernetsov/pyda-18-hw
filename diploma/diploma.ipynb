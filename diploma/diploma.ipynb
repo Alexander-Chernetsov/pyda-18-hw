{
 "cells": [
  {
   "cell_type": "markdown",
   "metadata": {},
   "source": [
    "# Дипломная работа по курсу python"
   ]
  },
  {
   "cell_type": "code",
   "execution_count": 146,
   "metadata": {},
   "outputs": [],
   "source": [
    "import pandas as pd\n",
    "import matplotlib.pyplot as plt\n",
    "import seaborn as sns"
   ]
  },
  {
   "cell_type": "markdown",
   "metadata": {},
   "source": [
    "### 1. Загрузите файл HR.csv в pandas dataframe"
   ]
  },
  {
   "cell_type": "code",
   "execution_count": 147,
   "metadata": {},
   "outputs": [
    {
     "data": {
      "text/html": [
       "<div>\n",
       "<style scoped>\n",
       "    .dataframe tbody tr th:only-of-type {\n",
       "        vertical-align: middle;\n",
       "    }\n",
       "\n",
       "    .dataframe tbody tr th {\n",
       "        vertical-align: top;\n",
       "    }\n",
       "\n",
       "    .dataframe thead th {\n",
       "        text-align: right;\n",
       "    }\n",
       "</style>\n",
       "<table border=\"1\" class=\"dataframe\">\n",
       "  <thead>\n",
       "    <tr style=\"text-align: right;\">\n",
       "      <th></th>\n",
       "      <th>satisfaction_level</th>\n",
       "      <th>last_evaluation</th>\n",
       "      <th>number_project</th>\n",
       "      <th>average_montly_hours</th>\n",
       "      <th>time_spend_company</th>\n",
       "      <th>Work_accident</th>\n",
       "      <th>left</th>\n",
       "      <th>promotion_last_5years</th>\n",
       "      <th>department</th>\n",
       "      <th>salary</th>\n",
       "    </tr>\n",
       "  </thead>\n",
       "  <tbody>\n",
       "    <tr>\n",
       "      <th>0</th>\n",
       "      <td>0.38</td>\n",
       "      <td>0.53</td>\n",
       "      <td>2</td>\n",
       "      <td>157</td>\n",
       "      <td>3</td>\n",
       "      <td>0</td>\n",
       "      <td>1</td>\n",
       "      <td>0</td>\n",
       "      <td>sales</td>\n",
       "      <td>low</td>\n",
       "    </tr>\n",
       "    <tr>\n",
       "      <th>1</th>\n",
       "      <td>0.80</td>\n",
       "      <td>0.86</td>\n",
       "      <td>5</td>\n",
       "      <td>262</td>\n",
       "      <td>6</td>\n",
       "      <td>0</td>\n",
       "      <td>1</td>\n",
       "      <td>0</td>\n",
       "      <td>sales</td>\n",
       "      <td>medium</td>\n",
       "    </tr>\n",
       "    <tr>\n",
       "      <th>2</th>\n",
       "      <td>0.11</td>\n",
       "      <td>0.88</td>\n",
       "      <td>7</td>\n",
       "      <td>272</td>\n",
       "      <td>4</td>\n",
       "      <td>0</td>\n",
       "      <td>1</td>\n",
       "      <td>0</td>\n",
       "      <td>sales</td>\n",
       "      <td>medium</td>\n",
       "    </tr>\n",
       "    <tr>\n",
       "      <th>3</th>\n",
       "      <td>0.72</td>\n",
       "      <td>0.87</td>\n",
       "      <td>5</td>\n",
       "      <td>223</td>\n",
       "      <td>5</td>\n",
       "      <td>0</td>\n",
       "      <td>1</td>\n",
       "      <td>0</td>\n",
       "      <td>sales</td>\n",
       "      <td>low</td>\n",
       "    </tr>\n",
       "    <tr>\n",
       "      <th>4</th>\n",
       "      <td>0.37</td>\n",
       "      <td>0.52</td>\n",
       "      <td>2</td>\n",
       "      <td>159</td>\n",
       "      <td>3</td>\n",
       "      <td>0</td>\n",
       "      <td>1</td>\n",
       "      <td>0</td>\n",
       "      <td>sales</td>\n",
       "      <td>low</td>\n",
       "    </tr>\n",
       "  </tbody>\n",
       "</table>\n",
       "</div>"
      ],
      "text/plain": [
       "   satisfaction_level  last_evaluation  number_project  average_montly_hours  \\\n",
       "0                0.38             0.53               2                   157   \n",
       "1                0.80             0.86               5                   262   \n",
       "2                0.11             0.88               7                   272   \n",
       "3                0.72             0.87               5                   223   \n",
       "4                0.37             0.52               2                   159   \n",
       "\n",
       "   time_spend_company  Work_accident  left  promotion_last_5years department  \\\n",
       "0                   3              0     1                      0      sales   \n",
       "1                   6              0     1                      0      sales   \n",
       "2                   4              0     1                      0      sales   \n",
       "3                   5              0     1                      0      sales   \n",
       "4                   3              0     1                      0      sales   \n",
       "\n",
       "   salary  \n",
       "0     low  \n",
       "1  medium  \n",
       "2  medium  \n",
       "3     low  \n",
       "4     low  "
      ]
     },
     "execution_count": 147,
     "metadata": {},
     "output_type": "execute_result"
    }
   ],
   "source": [
    "df = pd.read_csv('HR.csv') \n",
    "df.head()"
   ]
  },
  {
   "cell_type": "code",
   "execution_count": 148,
   "metadata": {},
   "outputs": [
    {
     "name": "stdout",
     "output_type": "stream",
     "text": [
      "<class 'pandas.core.frame.DataFrame'>\n",
      "RangeIndex: 14999 entries, 0 to 14998\n",
      "Data columns (total 10 columns):\n",
      " #   Column                 Non-Null Count  Dtype  \n",
      "---  ------                 --------------  -----  \n",
      " 0   satisfaction_level     14999 non-null  float64\n",
      " 1   last_evaluation        14999 non-null  float64\n",
      " 2   number_project         14999 non-null  int64  \n",
      " 3   average_montly_hours   14999 non-null  int64  \n",
      " 4   time_spend_company     14999 non-null  int64  \n",
      " 5   Work_accident          14999 non-null  int64  \n",
      " 6   left                   14999 non-null  int64  \n",
      " 7   promotion_last_5years  14999 non-null  int64  \n",
      " 8   department             14999 non-null  object \n",
      " 9   salary                 14999 non-null  object \n",
      "dtypes: float64(2), int64(6), object(2)\n",
      "memory usage: 1.1+ MB\n"
     ]
    }
   ],
   "source": [
    "df.info()"
   ]
  },
  {
   "cell_type": "code",
   "execution_count": 149,
   "metadata": {},
   "outputs": [],
   "source": [
    "# Признаки:\n",
    "dict={\n",
    "    'satisfaction_level' : 'Уровень удовлетворенности работой',\n",
    "    'last_evaluation' : 'Время с момента последней оценки в годах',\n",
    "    'number_project' : 'Количество проектов, выполненных за время работы',\n",
    "    'average_montly_hours' : 'Среднее количество часов на рабочем месте в месяц',\n",
    "    'time_spend_company' : 'Стаж работы в компании в годах',\n",
    "    'Work_accident' : 'Происходили ли несчастные случаи на рабочем месте с сотрудником',\n",
    "    'left' : 'уволился ли сотрудник',\n",
    "    'promotion_last_5years' : 'повышался ли сотрудник за последние пять лет',\n",
    "    'department' : 'отдел в котором работает сотрудник',\n",
    "    'salary' : 'относительный уровень зарплаты' \n",
    "    }"
   ]
  },
  {
   "cell_type": "markdown",
   "metadata": {},
   "source": [
    "### 2. Рассчитайте основные статистики для переменных (среднее,медиана,мода,мин/макс,сред.отклонение)"
   ]
  },
  {
   "cell_type": "code",
   "execution_count": 150,
   "metadata": {},
   "outputs": [
    {
     "data": {
      "text/html": [
       "<div>\n",
       "<style scoped>\n",
       "    .dataframe tbody tr th:only-of-type {\n",
       "        vertical-align: middle;\n",
       "    }\n",
       "\n",
       "    .dataframe tbody tr th {\n",
       "        vertical-align: top;\n",
       "    }\n",
       "\n",
       "    .dataframe thead th {\n",
       "        text-align: right;\n",
       "    }\n",
       "</style>\n",
       "<table border=\"1\" class=\"dataframe\">\n",
       "  <thead>\n",
       "    <tr style=\"text-align: right;\">\n",
       "      <th></th>\n",
       "      <th>satisfaction_level</th>\n",
       "      <th>last_evaluation</th>\n",
       "      <th>number_project</th>\n",
       "      <th>average_montly_hours</th>\n",
       "      <th>time_spend_company</th>\n",
       "      <th>Work_accident</th>\n",
       "      <th>left</th>\n",
       "      <th>promotion_last_5years</th>\n",
       "    </tr>\n",
       "  </thead>\n",
       "  <tbody>\n",
       "    <tr>\n",
       "      <th>count</th>\n",
       "      <td>14999.000000</td>\n",
       "      <td>14999.000000</td>\n",
       "      <td>14999.000000</td>\n",
       "      <td>14999.000000</td>\n",
       "      <td>14999.000000</td>\n",
       "      <td>14999.000000</td>\n",
       "      <td>14999.000000</td>\n",
       "      <td>14999.000000</td>\n",
       "    </tr>\n",
       "    <tr>\n",
       "      <th>mean</th>\n",
       "      <td>0.612834</td>\n",
       "      <td>0.716102</td>\n",
       "      <td>3.803054</td>\n",
       "      <td>201.050337</td>\n",
       "      <td>3.498233</td>\n",
       "      <td>0.144610</td>\n",
       "      <td>0.238083</td>\n",
       "      <td>0.021268</td>\n",
       "    </tr>\n",
       "    <tr>\n",
       "      <th>std</th>\n",
       "      <td>0.248631</td>\n",
       "      <td>0.171169</td>\n",
       "      <td>1.232592</td>\n",
       "      <td>49.943099</td>\n",
       "      <td>1.460136</td>\n",
       "      <td>0.351719</td>\n",
       "      <td>0.425924</td>\n",
       "      <td>0.144281</td>\n",
       "    </tr>\n",
       "    <tr>\n",
       "      <th>min</th>\n",
       "      <td>0.090000</td>\n",
       "      <td>0.360000</td>\n",
       "      <td>2.000000</td>\n",
       "      <td>96.000000</td>\n",
       "      <td>2.000000</td>\n",
       "      <td>0.000000</td>\n",
       "      <td>0.000000</td>\n",
       "      <td>0.000000</td>\n",
       "    </tr>\n",
       "    <tr>\n",
       "      <th>25%</th>\n",
       "      <td>0.440000</td>\n",
       "      <td>0.560000</td>\n",
       "      <td>3.000000</td>\n",
       "      <td>156.000000</td>\n",
       "      <td>3.000000</td>\n",
       "      <td>0.000000</td>\n",
       "      <td>0.000000</td>\n",
       "      <td>0.000000</td>\n",
       "    </tr>\n",
       "    <tr>\n",
       "      <th>50%</th>\n",
       "      <td>0.640000</td>\n",
       "      <td>0.720000</td>\n",
       "      <td>4.000000</td>\n",
       "      <td>200.000000</td>\n",
       "      <td>3.000000</td>\n",
       "      <td>0.000000</td>\n",
       "      <td>0.000000</td>\n",
       "      <td>0.000000</td>\n",
       "    </tr>\n",
       "    <tr>\n",
       "      <th>75%</th>\n",
       "      <td>0.820000</td>\n",
       "      <td>0.870000</td>\n",
       "      <td>5.000000</td>\n",
       "      <td>245.000000</td>\n",
       "      <td>4.000000</td>\n",
       "      <td>0.000000</td>\n",
       "      <td>0.000000</td>\n",
       "      <td>0.000000</td>\n",
       "    </tr>\n",
       "    <tr>\n",
       "      <th>max</th>\n",
       "      <td>1.000000</td>\n",
       "      <td>1.000000</td>\n",
       "      <td>7.000000</td>\n",
       "      <td>310.000000</td>\n",
       "      <td>10.000000</td>\n",
       "      <td>1.000000</td>\n",
       "      <td>1.000000</td>\n",
       "      <td>1.000000</td>\n",
       "    </tr>\n",
       "  </tbody>\n",
       "</table>\n",
       "</div>"
      ],
      "text/plain": [
       "       satisfaction_level  last_evaluation  number_project  \\\n",
       "count        14999.000000     14999.000000    14999.000000   \n",
       "mean             0.612834         0.716102        3.803054   \n",
       "std              0.248631         0.171169        1.232592   \n",
       "min              0.090000         0.360000        2.000000   \n",
       "25%              0.440000         0.560000        3.000000   \n",
       "50%              0.640000         0.720000        4.000000   \n",
       "75%              0.820000         0.870000        5.000000   \n",
       "max              1.000000         1.000000        7.000000   \n",
       "\n",
       "       average_montly_hours  time_spend_company  Work_accident          left  \\\n",
       "count          14999.000000        14999.000000   14999.000000  14999.000000   \n",
       "mean             201.050337            3.498233       0.144610      0.238083   \n",
       "std               49.943099            1.460136       0.351719      0.425924   \n",
       "min               96.000000            2.000000       0.000000      0.000000   \n",
       "25%              156.000000            3.000000       0.000000      0.000000   \n",
       "50%              200.000000            3.000000       0.000000      0.000000   \n",
       "75%              245.000000            4.000000       0.000000      0.000000   \n",
       "max              310.000000           10.000000       1.000000      1.000000   \n",
       "\n",
       "       promotion_last_5years  \n",
       "count           14999.000000  \n",
       "mean                0.021268  \n",
       "std                 0.144281  \n",
       "min                 0.000000  \n",
       "25%                 0.000000  \n",
       "50%                 0.000000  \n",
       "75%                 0.000000  \n",
       "max                 1.000000  "
      ]
     },
     "execution_count": 150,
     "metadata": {},
     "output_type": "execute_result"
    }
   ],
   "source": [
    "df.describe()"
   ]
  },
  {
   "cell_type": "markdown",
   "metadata": {},
   "source": [
    "### 3. Рассчитайть и визуализировать корреляционную матрицу для количественных переменных\n",
    "### Определить две самые скоррелированные и две наименее скоррелированные переменные"
   ]
  },
  {
   "cell_type": "code",
   "execution_count": 151,
   "metadata": {},
   "outputs": [],
   "source": [
    "# для выбора метода расчета корреляции изучим данные:"
   ]
  },
  {
   "cell_type": "code",
   "execution_count": 152,
   "metadata": {},
   "outputs": [
    {
     "name": "stdout",
     "output_type": "stream",
     "text": [
      "выбросами по столбцу satisfaction_level признано 0 записей\n",
      "выбросами по столбцу last_evaluation признано 0 записей\n",
      "выбросами по столбцу number_project признано 0 записей\n",
      "выбросами по столбцу average_montly_hours признано 0 записей\n",
      "выбросами по столбцу time_spend_company признано 1282 записей\n",
      "выбросами по столбцу Work_accident признано 2169 записей\n",
      "выбросами по столбцу left признано 3571 записей\n",
      "выбросами по столбцу promotion_last_5years признано 319 записей\n"
     ]
    }
   ],
   "source": [
    "# посмотрим выбросы по датафрейму\n",
    "# так как есть столбцы 'department' и 'salary' символьные поставим try/except\n",
    "for column in df.columns:\n",
    "    df_short=df[[column]]\n",
    "    try:\n",
    "        q1 = df_short[column].quantile(0.25)\n",
    "        q3 = df_short[column].quantile(0.75)\n",
    "        iqr = q3 - q1\n",
    "        lower_bound = q1 - (1.5 * iqr) \n",
    "        upper_bound = q3 + (1.5 * iqr)\n",
    "        print(f'выбросами по столбцу {column} признано {len(df) - len(df_short[df_short[column].between(lower_bound, upper_bound, inclusive=True)])} записей')    \n",
    "    except:\n",
    "        pass"
   ]
  },
  {
   "cell_type": "code",
   "execution_count": 153,
   "metadata": {},
   "outputs": [],
   "source": [
    "# 8,5% записей с \"стаж работы в компании в годах\" признано выбросами\n",
    "# остальные категорийные по сути"
   ]
  },
  {
   "cell_type": "code",
   "execution_count": 154,
   "metadata": {},
   "outputs": [
    {
     "data": {
      "image/png": "[encoded data removed]",
      "text/plain": [
       "<Figure size 432x288 with 1 Axes>"
      ]
     },
     "metadata": {
      "needs_background": "light"
     },
     "output_type": "display_data"
    },
    {
     "data": {
      "image/png": "[encoded data removed]",
      "text/plain": [
       "<Figure size 432x288 with 1 Axes>"
      ]
     },
     "metadata": {
      "needs_background": "light"
     },
     "output_type": "display_data"
    },
    {
     "data": {
      "image/png": "[encoded data removed]",
      "text/plain": [
       "<Figure size 432x288 with 1 Axes>"
      ]
     },
     "metadata": {
      "needs_background": "light"
     },
     "output_type": "display_data"
    },
    {
     "data": {
      "image/png": "[encoded data removed]",
      "text/plain": [
       "<Figure size 432x288 with 1 Axes>"
      ]
     },
     "metadata": {
      "needs_background": "light"
     },
     "output_type": "display_data"
    },
    {
     "data": {
      "image/png": "[encoded data removed]",
      "text/plain": [
       "<Figure size 432x288 with 1 Axes>"
      ]
     },
     "metadata": {
      "needs_background": "light"
     },
     "output_type": "display_data"
    },
    {
     "data": {
      "image/png": "[encoded data removed]",
      "text/plain": [
       "<Figure size 432x288 with 1 Axes>"
      ]
     },
     "metadata": {
      "needs_background": "light"
     },
     "output_type": "display_data"
    },
    {
     "data": {
      "image/png": "[encoded data removed]",
      "text/plain": [
       "<Figure size 432x288 with 1 Axes>"
      ]
     },
     "metadata": {
      "needs_background": "light"
     },
     "output_type": "display_data"
    },
    {
     "data": {
      "image/png": "[encoded data removed]",
      "text/plain": [
       "<Figure size 432x288 with 1 Axes>"
      ]
     },
     "metadata": {
      "needs_background": "light"
     },
     "output_type": "display_data"
    },
    {
     "data": {
      "image/png": "[encoded data removed]",
      "text/plain": [
       "<Figure size 432x288 with 1 Axes>"
      ]
     },
     "metadata": {
      "needs_background": "light"
     },
     "output_type": "display_data"
    },
    {
     "data": {
      "image/png": "[encoded data removed]",
      "text/plain": [
       "<Figure size 432x288 with 1 Axes>"
      ]
     },
     "metadata": {
      "needs_background": "light"
     },
     "output_type": "display_data"
    }
   ],
   "source": [
    "# посмотрим рапределение по столбцам\n",
    "for column in df.columns:\n",
    "    df[column].hist(bins=5)\n",
    "    plt.title(f'Распределение по {column}')\n",
    "    plt.show()"
   ]
  },
  {
   "cell_type": "code",
   "execution_count": 155,
   "metadata": {},
   "outputs": [],
   "source": [
    "# Так как часть стоблцов имеет категориальную \"природу\" плюс большинство стобцов не является\n",
    "# нормально распределёнными необходимо выбирать ранговую корреляцию Спирмана или τ-Кендалла.\n",
    "# считается, что применение коэффициента Кендалла предпочтительно, если в исходных данных имеются выбросы.\n",
    "# будем считать по Кендалу (просто так решил :) )"
   ]
  },
  {
   "cell_type": "code",
   "execution_count": 156,
   "metadata": {},
   "outputs": [],
   "source": [
    "# корреляционная матрица по Кендалу\n",
    "corr = df.corr(method='kendall')"
   ]
  },
  {
   "cell_type": "code",
   "execution_count": 157,
   "metadata": {},
   "outputs": [
    {
     "data": {
      "text/html": [
       "<style  type=\"text/css\" >\n",
       "#T_983ab356_a1eb_11eb_8b41_00155d0c6806row0_col0,#T_983ab356_a1eb_11eb_8b41_00155d0c6806row1_col1,#T_983ab356_a1eb_11eb_8b41_00155d0c6806row2_col2,#T_983ab356_a1eb_11eb_8b41_00155d0c6806row3_col3,#T_983ab356_a1eb_11eb_8b41_00155d0c6806row4_col4,#T_983ab356_a1eb_11eb_8b41_00155d0c6806row5_col5,#T_983ab356_a1eb_11eb_8b41_00155d0c6806row6_col6,#T_983ab356_a1eb_11eb_8b41_00155d0c6806row7_col7{\n",
       "            background-color:  #b40426;\n",
       "            color:  #f1f1f1;\n",
       "        }#T_983ab356_a1eb_11eb_8b41_00155d0c6806row0_col1,#T_983ab356_a1eb_11eb_8b41_00155d0c6806row1_col0{\n",
       "            background-color:  #a5c3fe;\n",
       "            color:  #000000;\n",
       "        }#T_983ab356_a1eb_11eb_8b41_00155d0c6806row0_col2,#T_983ab356_a1eb_11eb_8b41_00155d0c6806row2_col0{\n",
       "            background-color:  #8caffe;\n",
       "            color:  #000000;\n",
       "        }#T_983ab356_a1eb_11eb_8b41_00155d0c6806row0_col3,#T_983ab356_a1eb_11eb_8b41_00155d0c6806row3_col0{\n",
       "            background-color:  #94b6ff;\n",
       "            color:  #000000;\n",
       "        }#T_983ab356_a1eb_11eb_8b41_00155d0c6806row0_col4,#T_983ab356_a1eb_11eb_8b41_00155d0c6806row4_col0{\n",
       "            background-color:  #688aef;\n",
       "            color:  #000000;\n",
       "        }#T_983ab356_a1eb_11eb_8b41_00155d0c6806row0_col5,#T_983ab356_a1eb_11eb_8b41_00155d0c6806row5_col0{\n",
       "            background-color:  #93b5fe;\n",
       "            color:  #000000;\n",
       "        }#T_983ab356_a1eb_11eb_8b41_00155d0c6806row0_col6,#T_983ab356_a1eb_11eb_8b41_00155d0c6806row6_col0{\n",
       "            background-color:  #3b4cc0;\n",
       "            color:  #f1f1f1;\n",
       "        }#T_983ab356_a1eb_11eb_8b41_00155d0c6806row0_col7,#T_983ab356_a1eb_11eb_8b41_00155d0c6806row7_col0{\n",
       "            background-color:  #8badfd;\n",
       "            color:  #000000;\n",
       "        }#T_983ab356_a1eb_11eb_8b41_00155d0c6806row1_col2,#T_983ab356_a1eb_11eb_8b41_00155d0c6806row2_col1{\n",
       "            background-color:  #cbd8ee;\n",
       "            color:  #000000;\n",
       "        }#T_983ab356_a1eb_11eb_8b41_00155d0c6806row1_col3,#T_983ab356_a1eb_11eb_8b41_00155d0c6806row3_col1{\n",
       "            background-color:  #c4d5f3;\n",
       "            color:  #000000;\n",
       "        }#T_983ab356_a1eb_11eb_8b41_00155d0c6806row1_col4,#T_983ab356_a1eb_11eb_8b41_00155d0c6806row3_col4,#T_983ab356_a1eb_11eb_8b41_00155d0c6806row4_col1,#T_983ab356_a1eb_11eb_8b41_00155d0c6806row4_col3{\n",
       "            background-color:  #a6c4fe;\n",
       "            color:  #000000;\n",
       "        }#T_983ab356_a1eb_11eb_8b41_00155d0c6806row1_col5,#T_983ab356_a1eb_11eb_8b41_00155d0c6806row1_col6,#T_983ab356_a1eb_11eb_8b41_00155d0c6806row1_col7,#T_983ab356_a1eb_11eb_8b41_00155d0c6806row2_col7,#T_983ab356_a1eb_11eb_8b41_00155d0c6806row3_col5,#T_983ab356_a1eb_11eb_8b41_00155d0c6806row3_col7,#T_983ab356_a1eb_11eb_8b41_00155d0c6806row5_col1,#T_983ab356_a1eb_11eb_8b41_00155d0c6806row5_col3,#T_983ab356_a1eb_11eb_8b41_00155d0c6806row6_col1,#T_983ab356_a1eb_11eb_8b41_00155d0c6806row7_col1,#T_983ab356_a1eb_11eb_8b41_00155d0c6806row7_col2,#T_983ab356_a1eb_11eb_8b41_00155d0c6806row7_col3{\n",
       "            background-color:  #85a8fc;\n",
       "            color:  #000000;\n",
       "        }#T_983ab356_a1eb_11eb_8b41_00155d0c6806row2_col3,#T_983ab356_a1eb_11eb_8b41_00155d0c6806row3_col2{\n",
       "            background-color:  #d4dbe6;\n",
       "            color:  #000000;\n",
       "        }#T_983ab356_a1eb_11eb_8b41_00155d0c6806row2_col4,#T_983ab356_a1eb_11eb_8b41_00155d0c6806row4_col2{\n",
       "            background-color:  #bad0f8;\n",
       "            color:  #000000;\n",
       "        }#T_983ab356_a1eb_11eb_8b41_00155d0c6806row2_col5,#T_983ab356_a1eb_11eb_8b41_00155d0c6806row5_col2{\n",
       "            background-color:  #86a9fc;\n",
       "            color:  #000000;\n",
       "        }#T_983ab356_a1eb_11eb_8b41_00155d0c6806row2_col6,#T_983ab356_a1eb_11eb_8b41_00155d0c6806row6_col2{\n",
       "            background-color:  #81a4fb;\n",
       "            color:  #000000;\n",
       "        }#T_983ab356_a1eb_11eb_8b41_00155d0c6806row3_col6,#T_983ab356_a1eb_11eb_8b41_00155d0c6806row5_col7,#T_983ab356_a1eb_11eb_8b41_00155d0c6806row6_col3,#T_983ab356_a1eb_11eb_8b41_00155d0c6806row7_col5{\n",
       "            background-color:  #90b2fe;\n",
       "            color:  #000000;\n",
       "        }#T_983ab356_a1eb_11eb_8b41_00155d0c6806row4_col5,#T_983ab356_a1eb_11eb_8b41_00155d0c6806row5_col4{\n",
       "            background-color:  #80a3fa;\n",
       "            color:  #000000;\n",
       "        }#T_983ab356_a1eb_11eb_8b41_00155d0c6806row4_col6,#T_983ab356_a1eb_11eb_8b41_00155d0c6806row6_col4{\n",
       "            background-color:  #c6d6f1;\n",
       "            color:  #000000;\n",
       "        }#T_983ab356_a1eb_11eb_8b41_00155d0c6806row4_col7,#T_983ab356_a1eb_11eb_8b41_00155d0c6806row7_col4{\n",
       "            background-color:  #8fb1fe;\n",
       "            color:  #000000;\n",
       "        }#T_983ab356_a1eb_11eb_8b41_00155d0c6806row5_col6,#T_983ab356_a1eb_11eb_8b41_00155d0c6806row6_col5{\n",
       "            background-color:  #5d7ce6;\n",
       "            color:  #000000;\n",
       "        }#T_983ab356_a1eb_11eb_8b41_00155d0c6806row6_col7,#T_983ab356_a1eb_11eb_8b41_00155d0c6806row7_col6{\n",
       "            background-color:  #7699f6;\n",
       "            color:  #000000;\n",
       "        }</style><table id=\"T_983ab356_a1eb_11eb_8b41_00155d0c6806\" ><thead>    <tr>        <th class=\"blank level0\" ></th>        <th class=\"col_heading level0 col0\" >satisfaction_level</th>        <th class=\"col_heading level0 col1\" >last_evaluation</th>        <th class=\"col_heading level0 col2\" >number_project</th>        <th class=\"col_heading level0 col3\" >average_montly_hours</th>        <th class=\"col_heading level0 col4\" >time_spend_company</th>        <th class=\"col_heading level0 col5\" >Work_accident</th>        <th class=\"col_heading level0 col6\" >left</th>        <th class=\"col_heading level0 col7\" >promotion_last_5years</th>    </tr></thead><tbody>\n",
       "                <tr>\n",
       "                        <th id=\"T_983ab356_a1eb_11eb_8b41_00155d0c6806level0_row0\" class=\"row_heading level0 row0\" >satisfaction_level</th>\n",
       "                        <td id=\"T_983ab356_a1eb_11eb_8b41_00155d0c6806row0_col0\" class=\"data row0 col0\" >1.0000</td>\n",
       "                        <td id=\"T_983ab356_a1eb_11eb_8b41_00155d0c6806row0_col1\" class=\"data row0 col1\" >0.1139</td>\n",
       "                        <td id=\"T_983ab356_a1eb_11eb_8b41_00155d0c6806row0_col2\" class=\"data row0 col2\" >0.0221</td>\n",
       "                        <td id=\"T_983ab356_a1eb_11eb_8b41_00155d0c6806row0_col3\" class=\"data row0 col3\" >0.0511</td>\n",
       "                        <td id=\"T_983ab356_a1eb_11eb_8b41_00155d0c6806row0_col4\" class=\"data row0 col4\" >-0.1100</td>\n",
       "                        <td id=\"T_983ab356_a1eb_11eb_8b41_00155d0c6806row0_col5\" class=\"data row0 col5\" >0.0463</td>\n",
       "                        <td id=\"T_983ab356_a1eb_11eb_8b41_00155d0c6806row0_col6\" class=\"data row0 col6\" >-0.3007</td>\n",
       "                        <td id=\"T_983ab356_a1eb_11eb_8b41_00155d0c6806row0_col7\" class=\"data row0 col7\" >0.0183</td>\n",
       "            </tr>\n",
       "            <tr>\n",
       "                        <th id=\"T_983ab356_a1eb_11eb_8b41_00155d0c6806level0_row1\" class=\"row_heading level0 row1\" >last_evaluation</th>\n",
       "                        <td id=\"T_983ab356_a1eb_11eb_8b41_00155d0c6806row1_col0\" class=\"data row1 col0\" >0.1139</td>\n",
       "                        <td id=\"T_983ab356_a1eb_11eb_8b41_00155d0c6806row1_col1\" class=\"data row1 col1\" >1.0000</td>\n",
       "                        <td id=\"T_983ab356_a1eb_11eb_8b41_00155d0c6806row1_col2\" class=\"data row1 col2\" >0.2663</td>\n",
       "                        <td id=\"T_983ab356_a1eb_11eb_8b41_00155d0c6806row1_col3\" class=\"data row1 col3\" >0.2354</td>\n",
       "                        <td id=\"T_983ab356_a1eb_11eb_8b41_00155d0c6806row1_col4\" class=\"data row1 col4\" >0.1188</td>\n",
       "                        <td id=\"T_983ab356_a1eb_11eb_8b41_00155d0c6806row1_col5\" class=\"data row1 col5\" >-0.0047</td>\n",
       "                        <td id=\"T_983ab356_a1eb_11eb_8b41_00155d0c6806row1_col6\" class=\"data row1 col6\" >-0.0020</td>\n",
       "                        <td id=\"T_983ab356_a1eb_11eb_8b41_00155d0c6806row1_col7\" class=\"data row1 col7\" >-0.0059</td>\n",
       "            </tr>\n",
       "            <tr>\n",
       "                        <th id=\"T_983ab356_a1eb_11eb_8b41_00155d0c6806level0_row2\" class=\"row_heading level0 row2\" >number_project</th>\n",
       "                        <td id=\"T_983ab356_a1eb_11eb_8b41_00155d0c6806row2_col0\" class=\"data row2 col0\" >0.0221</td>\n",
       "                        <td id=\"T_983ab356_a1eb_11eb_8b41_00155d0c6806row2_col1\" class=\"data row2 col1\" >0.2663</td>\n",
       "                        <td id=\"T_983ab356_a1eb_11eb_8b41_00155d0c6806row2_col2\" class=\"data row2 col2\" >1.0000</td>\n",
       "                        <td id=\"T_983ab356_a1eb_11eb_8b41_00155d0c6806row2_col3\" class=\"data row2 col3\" >0.3070</td>\n",
       "                        <td id=\"T_983ab356_a1eb_11eb_8b41_00155d0c6806row2_col4\" class=\"data row2 col4\" >0.1950</td>\n",
       "                        <td id=\"T_983ab356_a1eb_11eb_8b41_00155d0c6806row2_col5\" class=\"data row2 col5\" >0.0021</td>\n",
       "                        <td id=\"T_983ab356_a1eb_11eb_8b41_00155d0c6806row2_col6\" class=\"data row2 col6\" >-0.0176</td>\n",
       "                        <td id=\"T_983ab356_a1eb_11eb_8b41_00155d0c6806row2_col7\" class=\"data row2 col7\" >-0.0027</td>\n",
       "            </tr>\n",
       "            <tr>\n",
       "                        <th id=\"T_983ab356_a1eb_11eb_8b41_00155d0c6806level0_row3\" class=\"row_heading level0 row3\" >average_montly_hours</th>\n",
       "                        <td id=\"T_983ab356_a1eb_11eb_8b41_00155d0c6806row3_col0\" class=\"data row3 col0\" >0.0511</td>\n",
       "                        <td id=\"T_983ab356_a1eb_11eb_8b41_00155d0c6806row3_col1\" class=\"data row3 col1\" >0.2354</td>\n",
       "                        <td id=\"T_983ab356_a1eb_11eb_8b41_00155d0c6806row3_col2\" class=\"data row3 col2\" >0.3070</td>\n",
       "                        <td id=\"T_983ab356_a1eb_11eb_8b41_00155d0c6806row3_col3\" class=\"data row3 col3\" >1.0000</td>\n",
       "                        <td id=\"T_983ab356_a1eb_11eb_8b41_00155d0c6806row3_col4\" class=\"data row3 col4\" >0.1195</td>\n",
       "                        <td id=\"T_983ab356_a1eb_11eb_8b41_00155d0c6806row3_col5\" class=\"data row3 col5\" >-0.0050</td>\n",
       "                        <td id=\"T_983ab356_a1eb_11eb_8b41_00155d0c6806row3_col6\" class=\"data row3 col6\" >0.0380</td>\n",
       "                        <td id=\"T_983ab356_a1eb_11eb_8b41_00155d0c6806row3_col7\" class=\"data row3 col7\" >-0.0024</td>\n",
       "            </tr>\n",
       "            <tr>\n",
       "                        <th id=\"T_983ab356_a1eb_11eb_8b41_00155d0c6806level0_row4\" class=\"row_heading level0 row4\" >time_spend_company</th>\n",
       "                        <td id=\"T_983ab356_a1eb_11eb_8b41_00155d0c6806row4_col0\" class=\"data row4 col0\" >-0.1100</td>\n",
       "                        <td id=\"T_983ab356_a1eb_11eb_8b41_00155d0c6806row4_col1\" class=\"data row4 col1\" >0.1188</td>\n",
       "                        <td id=\"T_983ab356_a1eb_11eb_8b41_00155d0c6806row4_col2\" class=\"data row4 col2\" >0.1950</td>\n",
       "                        <td id=\"T_983ab356_a1eb_11eb_8b41_00155d0c6806row4_col3\" class=\"data row4 col3\" >0.1195</td>\n",
       "                        <td id=\"T_983ab356_a1eb_11eb_8b41_00155d0c6806row4_col4\" class=\"data row4 col4\" >1.0000</td>\n",
       "                        <td id=\"T_983ab356_a1eb_11eb_8b41_00155d0c6806row4_col5\" class=\"data row4 col5\" >-0.0248</td>\n",
       "                        <td id=\"T_983ab356_a1eb_11eb_8b41_00155d0c6806row4_col6\" class=\"data row4 col6\" >0.2449</td>\n",
       "                        <td id=\"T_983ab356_a1eb_11eb_8b41_00155d0c6806row4_col7\" class=\"data row4 col7\" >0.0321</td>\n",
       "            </tr>\n",
       "            <tr>\n",
       "                        <th id=\"T_983ab356_a1eb_11eb_8b41_00155d0c6806level0_row5\" class=\"row_heading level0 row5\" >Work_accident</th>\n",
       "                        <td id=\"T_983ab356_a1eb_11eb_8b41_00155d0c6806row5_col0\" class=\"data row5 col0\" >0.0463</td>\n",
       "                        <td id=\"T_983ab356_a1eb_11eb_8b41_00155d0c6806row5_col1\" class=\"data row5 col1\" >-0.0047</td>\n",
       "                        <td id=\"T_983ab356_a1eb_11eb_8b41_00155d0c6806row5_col2\" class=\"data row5 col2\" >0.0021</td>\n",
       "                        <td id=\"T_983ab356_a1eb_11eb_8b41_00155d0c6806row5_col3\" class=\"data row5 col3\" >-0.0050</td>\n",
       "                        <td id=\"T_983ab356_a1eb_11eb_8b41_00155d0c6806row5_col4\" class=\"data row5 col4\" >-0.0248</td>\n",
       "                        <td id=\"T_983ab356_a1eb_11eb_8b41_00155d0c6806row5_col5\" class=\"data row5 col5\" >1.0000</td>\n",
       "                        <td id=\"T_983ab356_a1eb_11eb_8b41_00155d0c6806row5_col6\" class=\"data row5 col6\" >-0.1546</td>\n",
       "                        <td id=\"T_983ab356_a1eb_11eb_8b41_00155d0c6806row5_col7\" class=\"data row5 col7\" >0.0392</td>\n",
       "            </tr>\n",
       "            <tr>\n",
       "                        <th id=\"T_983ab356_a1eb_11eb_8b41_00155d0c6806level0_row6\" class=\"row_heading level0 row6\" >left</th>\n",
       "                        <td id=\"T_983ab356_a1eb_11eb_8b41_00155d0c6806row6_col0\" class=\"data row6 col0\" >-0.3007</td>\n",
       "                        <td id=\"T_983ab356_a1eb_11eb_8b41_00155d0c6806row6_col1\" class=\"data row6 col1\" >-0.0020</td>\n",
       "                        <td id=\"T_983ab356_a1eb_11eb_8b41_00155d0c6806row6_col2\" class=\"data row6 col2\" >-0.0176</td>\n",
       "                        <td id=\"T_983ab356_a1eb_11eb_8b41_00155d0c6806row6_col3\" class=\"data row6 col3\" >0.0380</td>\n",
       "                        <td id=\"T_983ab356_a1eb_11eb_8b41_00155d0c6806row6_col4\" class=\"data row6 col4\" >0.2449</td>\n",
       "                        <td id=\"T_983ab356_a1eb_11eb_8b41_00155d0c6806row6_col5\" class=\"data row6 col5\" >-0.1546</td>\n",
       "                        <td id=\"T_983ab356_a1eb_11eb_8b41_00155d0c6806row6_col6\" class=\"data row6 col6\" >1.0000</td>\n",
       "                        <td id=\"T_983ab356_a1eb_11eb_8b41_00155d0c6806row6_col7\" class=\"data row6 col7\" >-0.0618</td>\n",
       "            </tr>\n",
       "            <tr>\n",
       "                        <th id=\"T_983ab356_a1eb_11eb_8b41_00155d0c6806level0_row7\" class=\"row_heading level0 row7\" >promotion_last_5years</th>\n",
       "                        <td id=\"T_983ab356_a1eb_11eb_8b41_00155d0c6806row7_col0\" class=\"data row7 col0\" >0.0183</td>\n",
       "                        <td id=\"T_983ab356_a1eb_11eb_8b41_00155d0c6806row7_col1\" class=\"data row7 col1\" >-0.0059</td>\n",
       "                        <td id=\"T_983ab356_a1eb_11eb_8b41_00155d0c6806row7_col2\" class=\"data row7 col2\" >-0.0027</td>\n",
       "                        <td id=\"T_983ab356_a1eb_11eb_8b41_00155d0c6806row7_col3\" class=\"data row7 col3\" >-0.0024</td>\n",
       "                        <td id=\"T_983ab356_a1eb_11eb_8b41_00155d0c6806row7_col4\" class=\"data row7 col4\" >0.0321</td>\n",
       "                        <td id=\"T_983ab356_a1eb_11eb_8b41_00155d0c6806row7_col5\" class=\"data row7 col5\" >0.0392</td>\n",
       "                        <td id=\"T_983ab356_a1eb_11eb_8b41_00155d0c6806row7_col6\" class=\"data row7 col6\" >-0.0618</td>\n",
       "                        <td id=\"T_983ab356_a1eb_11eb_8b41_00155d0c6806row7_col7\" class=\"data row7 col7\" >1.0000</td>\n",
       "            </tr>\n",
       "    </tbody></table>"
      ],
      "text/plain": [
       "<pandas.io.formats.style.Styler at 0x12ea4e20>"
      ]
     },
     "execution_count": 157,
     "metadata": {},
     "output_type": "execute_result"
    }
   ],
   "source": [
    "# 1й вариант визуализации:\n",
    "corr.style.background_gradient(cmap='coolwarm', axis=None).set_precision(4)"
   ]
  },
  {
   "cell_type": "code",
   "execution_count": 158,
   "metadata": {},
   "outputs": [
    {
     "data": {
      "text/plain": [
       "<AxesSubplot:>"
      ]
     },
     "execution_count": 158,
     "metadata": {},
     "output_type": "execute_result"
    },
    {
     "data": {
      "image/png": "[encoded data removed]",
      "text/plain": [
       "<Figure size 1080x360 with 2 Axes>"
      ]
     },
     "metadata": {
      "needs_background": "light"
     },
     "output_type": "display_data"
    }
   ],
   "source": [
    "# 2й вариант визуализации:\n",
    "plt.figure(figsize=(15, 5))\n",
    "sns.heatmap(corr, \n",
    "        xticklabels=corr.columns,\n",
    "        yticklabels=corr.columns, annot = True, fmt='.2g')"
   ]
  },
  {
   "cell_type": "code",
   "execution_count": 162,
   "metadata": {},
   "outputs": [
    {
     "name": "stdout",
     "output_type": "stream",
     "text": [
      "самая минимальная корреляция между Время с момента последней оценки в годах и уволился ли сотрудник: 0.002\n",
      "самая большая корреляция между Количество проектов, выполненных за время работы и Среднее количество часов на рабочем месте в месяц: 0.307\n"
     ]
    }
   ],
   "source": [
    "# стоит задача найти самые две скоррелированные и две наименее скореллированные переменные.\n",
    "# корреляция бывает положительной и отрицательной (но при этом сильной).\n",
    "# возможно \"костыльный\" способ, но ничего лучше не пришло на ум:\n",
    "# вычисляем самые скорреллированные и менее скорреллированные пары через максимальные и минимальные абсолютные значения\n",
    "max_value=0\n",
    "min_value=1\n",
    "for i in list(corr.index):\n",
    "    for y in list(corr.index):\n",
    "        z = corr.loc[i,y]\n",
    "        if z != 1 and max_value < abs(z):\n",
    "            max_value = abs(z)\n",
    "            max_variable_1=i\n",
    "            max_variable_2=y\n",
    "        elif z != 1 and min_value > abs(z):\n",
    "            min_value = abs(z)\n",
    "            min_variable_1=i\n",
    "            min_variable_2=y\n",
    "        else:\n",
    "            pass\n",
    "print(f'самая минимальная корреляция между {dict[min_variable_1]} и {dict[min_variable_2]}: {round(min_value,4)}')\n",
    "print(f'самая большая корреляция между {dict[max_variable_1]} и {dict[max_variable_2]}: {round(max_value,4)}')\n",
    "# можно было еще преобразовать датафрейм через corr=corr.abs() и перебирать уже готовые значения"
   ]
  },
  {
   "cell_type": "code",
   "execution_count": 163,
   "metadata": {},
   "outputs": [],
   "source": [
    "# вывод: чем больше работаешь тем больше сделаешь :)"
   ]
  },
  {
   "cell_type": "markdown",
   "metadata": {},
   "source": [
    "### 4. Рассчитайте сколько сотрудников работает в каждом департаменте "
   ]
  },
  {
   "cell_type": "code",
   "execution_count": 164,
   "metadata": {},
   "outputs": [
    {
     "data": {
      "text/html": [
       "<div>\n",
       "<style scoped>\n",
       "    .dataframe tbody tr th:only-of-type {\n",
       "        vertical-align: middle;\n",
       "    }\n",
       "\n",
       "    .dataframe tbody tr th {\n",
       "        vertical-align: top;\n",
       "    }\n",
       "\n",
       "    .dataframe thead th {\n",
       "        text-align: right;\n",
       "    }\n",
       "</style>\n",
       "<table border=\"1\" class=\"dataframe\">\n",
       "  <thead>\n",
       "    <tr style=\"text-align: right;\">\n",
       "      <th></th>\n",
       "      <th>satisfaction_level</th>\n",
       "      <th>last_evaluation</th>\n",
       "      <th>number_project</th>\n",
       "      <th>average_montly_hours</th>\n",
       "      <th>time_spend_company</th>\n",
       "      <th>Work_accident</th>\n",
       "      <th>left</th>\n",
       "      <th>promotion_last_5years</th>\n",
       "      <th>salary</th>\n",
       "    </tr>\n",
       "    <tr>\n",
       "      <th>department</th>\n",
       "      <th></th>\n",
       "      <th></th>\n",
       "      <th></th>\n",
       "      <th></th>\n",
       "      <th></th>\n",
       "      <th></th>\n",
       "      <th></th>\n",
       "      <th></th>\n",
       "      <th></th>\n",
       "    </tr>\n",
       "  </thead>\n",
       "  <tbody>\n",
       "    <tr>\n",
       "      <th>IT</th>\n",
       "      <td>954</td>\n",
       "      <td>954</td>\n",
       "      <td>954</td>\n",
       "      <td>954</td>\n",
       "      <td>954</td>\n",
       "      <td>954</td>\n",
       "      <td>954</td>\n",
       "      <td>954</td>\n",
       "      <td>954</td>\n",
       "    </tr>\n",
       "    <tr>\n",
       "      <th>RandD</th>\n",
       "      <td>666</td>\n",
       "      <td>666</td>\n",
       "      <td>666</td>\n",
       "      <td>666</td>\n",
       "      <td>666</td>\n",
       "      <td>666</td>\n",
       "      <td>666</td>\n",
       "      <td>666</td>\n",
       "      <td>666</td>\n",
       "    </tr>\n",
       "    <tr>\n",
       "      <th>accounting</th>\n",
       "      <td>563</td>\n",
       "      <td>563</td>\n",
       "      <td>563</td>\n",
       "      <td>563</td>\n",
       "      <td>563</td>\n",
       "      <td>563</td>\n",
       "      <td>563</td>\n",
       "      <td>563</td>\n",
       "      <td>563</td>\n",
       "    </tr>\n",
       "    <tr>\n",
       "      <th>hr</th>\n",
       "      <td>524</td>\n",
       "      <td>524</td>\n",
       "      <td>524</td>\n",
       "      <td>524</td>\n",
       "      <td>524</td>\n",
       "      <td>524</td>\n",
       "      <td>524</td>\n",
       "      <td>524</td>\n",
       "      <td>524</td>\n",
       "    </tr>\n",
       "    <tr>\n",
       "      <th>management</th>\n",
       "      <td>539</td>\n",
       "      <td>539</td>\n",
       "      <td>539</td>\n",
       "      <td>539</td>\n",
       "      <td>539</td>\n",
       "      <td>539</td>\n",
       "      <td>539</td>\n",
       "      <td>539</td>\n",
       "      <td>539</td>\n",
       "    </tr>\n",
       "    <tr>\n",
       "      <th>marketing</th>\n",
       "      <td>655</td>\n",
       "      <td>655</td>\n",
       "      <td>655</td>\n",
       "      <td>655</td>\n",
       "      <td>655</td>\n",
       "      <td>655</td>\n",
       "      <td>655</td>\n",
       "      <td>655</td>\n",
       "      <td>655</td>\n",
       "    </tr>\n",
       "    <tr>\n",
       "      <th>product_mng</th>\n",
       "      <td>704</td>\n",
       "      <td>704</td>\n",
       "      <td>704</td>\n",
       "      <td>704</td>\n",
       "      <td>704</td>\n",
       "      <td>704</td>\n",
       "      <td>704</td>\n",
       "      <td>704</td>\n",
       "      <td>704</td>\n",
       "    </tr>\n",
       "    <tr>\n",
       "      <th>sales</th>\n",
       "      <td>3126</td>\n",
       "      <td>3126</td>\n",
       "      <td>3126</td>\n",
       "      <td>3126</td>\n",
       "      <td>3126</td>\n",
       "      <td>3126</td>\n",
       "      <td>3126</td>\n",
       "      <td>3126</td>\n",
       "      <td>3126</td>\n",
       "    </tr>\n",
       "    <tr>\n",
       "      <th>support</th>\n",
       "      <td>1674</td>\n",
       "      <td>1674</td>\n",
       "      <td>1674</td>\n",
       "      <td>1674</td>\n",
       "      <td>1674</td>\n",
       "      <td>1674</td>\n",
       "      <td>1674</td>\n",
       "      <td>1674</td>\n",
       "      <td>1674</td>\n",
       "    </tr>\n",
       "    <tr>\n",
       "      <th>technical</th>\n",
       "      <td>2023</td>\n",
       "      <td>2023</td>\n",
       "      <td>2023</td>\n",
       "      <td>2023</td>\n",
       "      <td>2023</td>\n",
       "      <td>2023</td>\n",
       "      <td>2023</td>\n",
       "      <td>2023</td>\n",
       "      <td>2023</td>\n",
       "    </tr>\n",
       "  </tbody>\n",
       "</table>\n",
       "</div>"
      ],
      "text/plain": [
       "             satisfaction_level  last_evaluation  number_project  \\\n",
       "department                                                         \n",
       "IT                          954              954             954   \n",
       "RandD                       666              666             666   \n",
       "accounting                  563              563             563   \n",
       "hr                          524              524             524   \n",
       "management                  539              539             539   \n",
       "marketing                   655              655             655   \n",
       "product_mng                 704              704             704   \n",
       "sales                      3126             3126            3126   \n",
       "support                    1674             1674            1674   \n",
       "technical                  2023             2023            2023   \n",
       "\n",
       "             average_montly_hours  time_spend_company  Work_accident  left  \\\n",
       "department                                                                   \n",
       "IT                            954                 954            954   954   \n",
       "RandD                         666                 666            666   666   \n",
       "accounting                    563                 563            563   563   \n",
       "hr                            524                 524            524   524   \n",
       "management                    539                 539            539   539   \n",
       "marketing                     655                 655            655   655   \n",
       "product_mng                   704                 704            704   704   \n",
       "sales                        3126                3126           3126  3126   \n",
       "support                      1674                1674           1674  1674   \n",
       "technical                    2023                2023           2023  2023   \n",
       "\n",
       "             promotion_last_5years  salary  \n",
       "department                                  \n",
       "IT                             954     954  \n",
       "RandD                          666     666  \n",
       "accounting                     563     563  \n",
       "hr                             524     524  \n",
       "management                     539     539  \n",
       "marketing                      655     655  \n",
       "product_mng                    704     704  \n",
       "sales                         3126    3126  \n",
       "support                       1674    1674  \n",
       "technical                     2023    2023  "
      ]
     },
     "execution_count": 164,
     "metadata": {},
     "output_type": "execute_result"
    }
   ],
   "source": [
    "# ключевое слово \"работает\" - т.е. left = false (0)\n",
    "df.loc[df.left==0].groupby('department').count()"
   ]
  },
  {
   "cell_type": "code",
   "execution_count": 165,
   "metadata": {},
   "outputs": [
    {
     "name": "stdout",
     "output_type": "stream",
     "text": [
      "На текущий момент в департаменте:\n",
      "- support работает 1674 человек\n",
      "- marketing работает 655 человек\n",
      "- technical работает 2023 человек\n",
      "- management работает 539 человек\n",
      "- accounting работает 563 человек\n",
      "- sales работает 3126 человек\n",
      "- hr работает 524 человек\n",
      "- IT работает 954 человек\n",
      "- RandD работает 666 человек\n",
      "- product_mng работает 704 человек\n"
     ]
    }
   ],
   "source": [
    "# вариант без лишней информации\n",
    "dep = set(df.department)\n",
    "print('На текущий момент в департаменте:')\n",
    "for i in dep:\n",
    "    print(f'- {i} работает {len(df.loc[df.department == i].loc[df.left == 0])} человек')\n",
    "#    print(f'  - уволилось {len(df.loc[df.department == i].loc[df.left == 1])} человек') # можно посмотреть сколько уволилось"
   ]
  },
  {
   "cell_type": "markdown",
   "metadata": {},
   "source": [
    "### 5. Показать распределение сотрудников по зарплатам"
   ]
  },
  {
   "cell_type": "code",
   "execution_count": 167,
   "metadata": {},
   "outputs": [
    {
     "data": {
      "text/plain": [
       "<AxesSubplot:>"
      ]
     },
     "execution_count": 167,
     "metadata": {},
     "output_type": "execute_result"
    },
    {
     "data": {
      "image/png": "[encoded data removed]",
      "text/plain": [
       "<Figure size 432x288 with 1 Axes>"
      ]
     },
     "metadata": {
      "needs_background": "light"
     },
     "output_type": "display_data"
    }
   ],
   "source": [
    "# так как не указано действующих или нет - считаем по всем, включая уволившихся\n",
    "df.salary.hist(bins=5)"
   ]
  },
  {
   "cell_type": "markdown",
   "metadata": {},
   "source": [
    "### 6. Показать распределение сотрудников по зарплатам в каждом департаменте по отдельности"
   ]
  },
  {
   "cell_type": "code",
   "execution_count": 168,
   "metadata": {},
   "outputs": [
    {
     "data": {
      "image/png": "[encoded data removed]",
      "text/plain": [
       "<Figure size 432x288 with 1 Axes>"
      ]
     },
     "metadata": {
      "needs_background": "light"
     },
     "output_type": "display_data"
    },
    {
     "data": {
      "image/png": "[encoded data removed]",
      "text/plain": [
       "<Figure size 432x288 with 1 Axes>"
      ]
     },
     "metadata": {
      "needs_background": "light"
     },
     "output_type": "display_data"
    },
    {
     "data": {
      "image/png": "[encoded data removed]",
      "text/plain": [
       "<Figure size 432x288 with 1 Axes>"
      ]
     },
     "metadata": {
      "needs_background": "light"
     },
     "output_type": "display_data"
    },
    {
     "data": {
      "image/png": "[encoded data removed]",
      "text/plain": [
       "<Figure size 432x288 with 1 Axes>"
      ]
     },
     "metadata": {
      "needs_background": "light"
     },
     "output_type": "display_data"
    },
    {
     "data": {
      "image/png": "[encoded data removed]",
      "text/plain": [
       "<Figure size 432x288 with 1 Axes>"
      ]
     },
     "metadata": {
      "needs_background": "light"
     },
     "output_type": "display_data"
    },
    {
     "data": {
      "image/png": "[encoded data removed]",
      "text/plain": [
       "<Figure size 432x288 with 1 Axes>"
      ]
     },
     "metadata": {
      "needs_background": "light"
     },
     "output_type": "display_data"
    },
    {
     "data": {
      "image/png": "[encoded data removed]",
      "text/plain": [
       "<Figure size 432x288 with 1 Axes>"
      ]
     },
     "metadata": {
      "needs_background": "light"
     },
     "output_type": "display_data"
    },
    {
     "data": {
      "image/png": "[encoded data removed]",
      "text/plain": [
       "<Figure size 432x288 with 1 Axes>"
      ]
     },
     "metadata": {
      "needs_background": "light"
     },
     "output_type": "display_data"
    },
    {
     "data": {
      "image/png": "[encoded data removed]",
      "text/plain": [
       "<Figure size 432x288 with 1 Axes>"
      ]
     },
     "metadata": {
      "needs_background": "light"
     },
     "output_type": "display_data"
    },
    {
     "data": {
      "image/png": "[encoded data removed]",
      "text/plain": [
       "<Figure size 432x288 with 1 Axes>"
      ]
     },
     "metadata": {
      "needs_background": "light"
     },
     "output_type": "display_data"
    }
   ],
   "source": [
    "dep = set(df.department)\n",
    "for i in dep:\n",
    "    df.loc[df.department == i].salary.hist(bins=5)\n",
    "    plt.title(f'Распределение ЗП сотрудников департамента {i}')\n",
    "    plt.show()"
   ]
  },
  {
   "cell_type": "markdown",
   "metadata": {},
   "source": [
    "### 7. Проверить гипотезу, что сотрудники с высоким окладом проводят на работе больше времени, чем сотрудники с низким окладом"
   ]
  },
  {
   "cell_type": "code",
   "execution_count": 169,
   "metadata": {},
   "outputs": [],
   "source": [
    "# делаем копию данных\n",
    "df_gip = df[['salary', 'average_montly_hours']].copy()"
   ]
  },
  {
   "cell_type": "code",
   "execution_count": 170,
   "metadata": {},
   "outputs": [
    {
     "data": {
      "text/html": [
       "<div>\n",
       "<style scoped>\n",
       "    .dataframe tbody tr th:only-of-type {\n",
       "        vertical-align: middle;\n",
       "    }\n",
       "\n",
       "    .dataframe tbody tr th {\n",
       "        vertical-align: top;\n",
       "    }\n",
       "\n",
       "    .dataframe thead th {\n",
       "        text-align: right;\n",
       "    }\n",
       "</style>\n",
       "<table border=\"1\" class=\"dataframe\">\n",
       "  <thead>\n",
       "    <tr style=\"text-align: right;\">\n",
       "      <th></th>\n",
       "      <th>salary</th>\n",
       "      <th>average_montly_hours</th>\n",
       "    </tr>\n",
       "  </thead>\n",
       "  <tbody>\n",
       "    <tr>\n",
       "      <th>0</th>\n",
       "      <td>low</td>\n",
       "      <td>157</td>\n",
       "    </tr>\n",
       "    <tr>\n",
       "      <th>1</th>\n",
       "      <td>medium</td>\n",
       "      <td>262</td>\n",
       "    </tr>\n",
       "    <tr>\n",
       "      <th>2</th>\n",
       "      <td>medium</td>\n",
       "      <td>272</td>\n",
       "    </tr>\n",
       "    <tr>\n",
       "      <th>3</th>\n",
       "      <td>low</td>\n",
       "      <td>223</td>\n",
       "    </tr>\n",
       "    <tr>\n",
       "      <th>4</th>\n",
       "      <td>low</td>\n",
       "      <td>159</td>\n",
       "    </tr>\n",
       "    <tr>\n",
       "      <th>...</th>\n",
       "      <td>...</td>\n",
       "      <td>...</td>\n",
       "    </tr>\n",
       "    <tr>\n",
       "      <th>14994</th>\n",
       "      <td>low</td>\n",
       "      <td>151</td>\n",
       "    </tr>\n",
       "    <tr>\n",
       "      <th>14995</th>\n",
       "      <td>low</td>\n",
       "      <td>160</td>\n",
       "    </tr>\n",
       "    <tr>\n",
       "      <th>14996</th>\n",
       "      <td>low</td>\n",
       "      <td>143</td>\n",
       "    </tr>\n",
       "    <tr>\n",
       "      <th>14997</th>\n",
       "      <td>low</td>\n",
       "      <td>280</td>\n",
       "    </tr>\n",
       "    <tr>\n",
       "      <th>14998</th>\n",
       "      <td>low</td>\n",
       "      <td>158</td>\n",
       "    </tr>\n",
       "  </tbody>\n",
       "</table>\n",
       "<p>14999 rows × 2 columns</p>\n",
       "</div>"
      ],
      "text/plain": [
       "       salary  average_montly_hours\n",
       "0         low                   157\n",
       "1      medium                   262\n",
       "2      medium                   272\n",
       "3         low                   223\n",
       "4         low                   159\n",
       "...       ...                   ...\n",
       "14994     low                   151\n",
       "14995     low                   160\n",
       "14996     low                   143\n",
       "14997     low                   280\n",
       "14998     low                   158\n",
       "\n",
       "[14999 rows x 2 columns]"
      ]
     },
     "execution_count": 170,
     "metadata": {},
     "output_type": "execute_result"
    }
   ],
   "source": [
    "df_gip"
   ]
  },
  {
   "cell_type": "code",
   "execution_count": 171,
   "metadata": {},
   "outputs": [
    {
     "data": {
      "text/html": [
       "<div>\n",
       "<style scoped>\n",
       "    .dataframe tbody tr th:only-of-type {\n",
       "        vertical-align: middle;\n",
       "    }\n",
       "\n",
       "    .dataframe tbody tr th {\n",
       "        vertical-align: top;\n",
       "    }\n",
       "\n",
       "    .dataframe thead th {\n",
       "        text-align: right;\n",
       "    }\n",
       "</style>\n",
       "<table border=\"1\" class=\"dataframe\">\n",
       "  <thead>\n",
       "    <tr style=\"text-align: right;\">\n",
       "      <th></th>\n",
       "      <th>salary</th>\n",
       "      <th>average_montly_hours</th>\n",
       "    </tr>\n",
       "  </thead>\n",
       "  <tbody>\n",
       "    <tr>\n",
       "      <th>0</th>\n",
       "      <td>1</td>\n",
       "      <td>157</td>\n",
       "    </tr>\n",
       "    <tr>\n",
       "      <th>1</th>\n",
       "      <td>2</td>\n",
       "      <td>262</td>\n",
       "    </tr>\n",
       "    <tr>\n",
       "      <th>2</th>\n",
       "      <td>2</td>\n",
       "      <td>272</td>\n",
       "    </tr>\n",
       "    <tr>\n",
       "      <th>3</th>\n",
       "      <td>1</td>\n",
       "      <td>223</td>\n",
       "    </tr>\n",
       "    <tr>\n",
       "      <th>4</th>\n",
       "      <td>1</td>\n",
       "      <td>159</td>\n",
       "    </tr>\n",
       "    <tr>\n",
       "      <th>...</th>\n",
       "      <td>...</td>\n",
       "      <td>...</td>\n",
       "    </tr>\n",
       "    <tr>\n",
       "      <th>14994</th>\n",
       "      <td>1</td>\n",
       "      <td>151</td>\n",
       "    </tr>\n",
       "    <tr>\n",
       "      <th>14995</th>\n",
       "      <td>1</td>\n",
       "      <td>160</td>\n",
       "    </tr>\n",
       "    <tr>\n",
       "      <th>14996</th>\n",
       "      <td>1</td>\n",
       "      <td>143</td>\n",
       "    </tr>\n",
       "    <tr>\n",
       "      <th>14997</th>\n",
       "      <td>1</td>\n",
       "      <td>280</td>\n",
       "    </tr>\n",
       "    <tr>\n",
       "      <th>14998</th>\n",
       "      <td>1</td>\n",
       "      <td>158</td>\n",
       "    </tr>\n",
       "  </tbody>\n",
       "</table>\n",
       "<p>14999 rows × 2 columns</p>\n",
       "</div>"
      ],
      "text/plain": [
       "       salary  average_montly_hours\n",
       "0           1                   157\n",
       "1           2                   262\n",
       "2           2                   272\n",
       "3           1                   223\n",
       "4           1                   159\n",
       "...       ...                   ...\n",
       "14994       1                   151\n",
       "14995       1                   160\n",
       "14996       1                   143\n",
       "14997       1                   280\n",
       "14998       1                   158\n",
       "\n",
       "[14999 rows x 2 columns]"
      ]
     },
     "execution_count": 171,
     "metadata": {},
     "output_type": "execute_result"
    }
   ],
   "source": [
    "# переведем уровень ЗП в категории \n",
    "dct = {\n",
    "'low':1,\n",
    "'medium':2,\n",
    "'high':3   \n",
    "}\n",
    "df_gip.salary = df_gip.salary.apply(lambda x: dct[x])\n",
    "df_gip"
   ]
  },
  {
   "cell_type": "code",
   "execution_count": 172,
   "metadata": {},
   "outputs": [
    {
     "data": {
      "text/html": [
       "<div>\n",
       "<style scoped>\n",
       "    .dataframe tbody tr th:only-of-type {\n",
       "        vertical-align: middle;\n",
       "    }\n",
       "\n",
       "    .dataframe tbody tr th {\n",
       "        vertical-align: top;\n",
       "    }\n",
       "\n",
       "    .dataframe thead th {\n",
       "        text-align: right;\n",
       "    }\n",
       "</style>\n",
       "<table border=\"1\" class=\"dataframe\">\n",
       "  <thead>\n",
       "    <tr style=\"text-align: right;\">\n",
       "      <th></th>\n",
       "      <th>salary</th>\n",
       "      <th>average_montly_hours</th>\n",
       "    </tr>\n",
       "  </thead>\n",
       "  <tbody>\n",
       "    <tr>\n",
       "      <th>salary</th>\n",
       "      <td>1.000000</td>\n",
       "      <td>0.001896</td>\n",
       "    </tr>\n",
       "    <tr>\n",
       "      <th>average_montly_hours</th>\n",
       "      <td>0.001896</td>\n",
       "      <td>1.000000</td>\n",
       "    </tr>\n",
       "  </tbody>\n",
       "</table>\n",
       "</div>"
      ],
      "text/plain": [
       "                        salary  average_montly_hours\n",
       "salary                1.000000              0.001896\n",
       "average_montly_hours  0.001896              1.000000"
      ]
     },
     "execution_count": 172,
     "metadata": {},
     "output_type": "execute_result"
    }
   ],
   "source": [
    "# считаем коэф. корреляции Кендала (у нас категорийный признак)\n",
    "df_gip[['salary', 'average_montly_hours']].corr(method='kendall')"
   ]
  },
  {
   "cell_type": "code",
   "execution_count": 173,
   "metadata": {},
   "outputs": [
    {
     "data": {
      "text/html": [
       "<div>\n",
       "<style scoped>\n",
       "    .dataframe tbody tr th:only-of-type {\n",
       "        vertical-align: middle;\n",
       "    }\n",
       "\n",
       "    .dataframe tbody tr th {\n",
       "        vertical-align: top;\n",
       "    }\n",
       "\n",
       "    .dataframe thead th {\n",
       "        text-align: right;\n",
       "    }\n",
       "</style>\n",
       "<table border=\"1\" class=\"dataframe\">\n",
       "  <thead>\n",
       "    <tr style=\"text-align: right;\">\n",
       "      <th></th>\n",
       "      <th>salary</th>\n",
       "      <th>average_montly_hours</th>\n",
       "    </tr>\n",
       "  </thead>\n",
       "  <tbody>\n",
       "    <tr>\n",
       "      <th>salary</th>\n",
       "      <td>1.000000</td>\n",
       "      <td>0.002452</td>\n",
       "    </tr>\n",
       "    <tr>\n",
       "      <th>average_montly_hours</th>\n",
       "      <td>0.002452</td>\n",
       "      <td>1.000000</td>\n",
       "    </tr>\n",
       "  </tbody>\n",
       "</table>\n",
       "</div>"
      ],
      "text/plain": [
       "                        salary  average_montly_hours\n",
       "salary                1.000000              0.002452\n",
       "average_montly_hours  0.002452              1.000000"
      ]
     },
     "execution_count": 173,
     "metadata": {},
     "output_type": "execute_result"
    }
   ],
   "source": [
    "# считаем коэф. корреляции Спирмена (у нас категорийный признак)\n",
    "df_gip[['salary', 'average_montly_hours']].corr(method='spearman')"
   ]
  },
  {
   "cell_type": "code",
   "execution_count": 174,
   "metadata": {},
   "outputs": [],
   "source": [
    "# вывод - корреляция на уровне 0.2% это отсутствие зависимости"
   ]
  },
  {
   "cell_type": "markdown",
   "metadata": {},
   "source": [
    "### 8. Рассчитать следующие показатели среди уволившихся и не уволившихся сотрудников (по отдельности)\n",
    ">Доля сотрудников с повышением за последние 5 лет \\\n",
    "Средняя степень удовлетворенности \\\n",
    "Среднее количество проектов "
   ]
  },
  {
   "cell_type": "code",
   "execution_count": 175,
   "metadata": {},
   "outputs": [
    {
     "name": "stdout",
     "output_type": "stream",
     "text": [
      "\n",
      "РАБОТАЮЩИЕ : 11428 человек, 76.192 %\n",
      "Доля сотрудников с повышением за последние 5 лет : 0.026 %\n",
      "Степень удовлетворенности : средняя 0.667 , медиана 0.69\n",
      "Количество проектов : средняя 3.787 , медиана 4.0\n",
      "\n",
      "УВОЛИВШИЕСЯ : 3571 человек, 23.808 %\n",
      "Доля сотрудников с повышением за последние 5 лет : 0.005 %\n",
      "Степень удовлетворенности : средняя 0.44 , медиана 0.41\n",
      "Количество проектов : средняя 3.856 , медиана 4.0\n"
     ]
    }
   ],
   "source": [
    "dict_status = {\n",
    "    0: 'РАБОТАЮЩИЕ',\n",
    "    1: 'УВОЛИВШИЕСЯ'\n",
    "    }\n",
    "dict_param = {\n",
    "    'satisfaction_level':'Степень удовлетворенности',\n",
    "    'number_project':'Количество проектов'\n",
    "    }\n",
    "for i in dict_status:\n",
    "    print()\n",
    "    print(dict_status[i], \":\", len(df.loc[df.left == i]), \"человек,\", round(len(df.loc[df.left == i])/len(df)*100,3),\"%\")\n",
    "    print(\"Доля сотрудников с повышением за последние 5 лет :\", round(len(df.loc[df.left == i].loc[df.promotion_last_5years == 1])/len(df.loc[df.left == i]*100),3),\"%\")\n",
    "    for y in dict_param:\n",
    "        print(dict_param[y], \":\", \"средняя\", round(df.loc[df.left == i][y].mean(),3),\",\", \"медиана\", round(df.loc[df.left == i][y].median(),3))"
   ]
  },
  {
   "cell_type": "markdown",
   "metadata": {},
   "source": [
    "### 9. Разделить данные на тестовую и обучающую выборки - 20 баллов\n",
    ">Построить модель LDA, предсказывающую уволился ли сотрудник на основе имеющихся факторов (кроме department и salary) \\\n",
    "Оценить качество модели на тестовой выборки "
   ]
  },
  {
   "cell_type": "code",
   "execution_count": 176,
   "metadata": {},
   "outputs": [],
   "source": [
    "from sklearn.discriminant_analysis import LinearDiscriminantAnalysis\n",
    "from sklearn.model_selection import train_test_split\n",
    "from sklearn.metrics import accuracy_score"
   ]
  },
  {
   "cell_type": "code",
   "execution_count": 177,
   "metadata": {},
   "outputs": [
    {
     "name": "stdout",
     "output_type": "stream",
     "text": [
      "Точность модели по 7 параметрам: 0.7558\n",
      "Точность модели по 3 параметрам: 0.7529\n"
     ]
    }
   ],
   "source": [
    "# посчитаем 2 варианта:\n",
    "# 1. по всем столбцам\n",
    "# 2. по основным, с которыми у 'left' больше всего корреляций\n",
    "two_var_list=[\n",
    "        ['satisfaction_level','last_evaluation','number_project','average_montly_hours','time_spend_company','Work_accident','promotion_last_5years'],\n",
    "        ['satisfaction_level','time_spend_company','Work_accident']\n",
    "]\n",
    "for i in two_var_list:\n",
    "    X = df[i]\n",
    "    y = df['left']\n",
    "    X_train, X_test, y_train, y_test = train_test_split(X, y, test_size=0.30, random_state=42)\n",
    "    lda = LinearDiscriminantAnalysis()\n",
    "    # обучаем данные\n",
    "    lda.fit(X_train, y_train)\n",
    "    # делаем прогноз на тестовой выборке\n",
    "    lda.predict(X_test)\n",
    "    # смотрим разницу факта и прогноза\n",
    "    result = pd.DataFrame([y_test, lda.predict(X_test)]).T\n",
    "    # точность модели\n",
    "    print(f'Точность модели по {len(i)} параметрам: {round(accuracy_score(y_test, lda.predict(X_test)),4)}')"
   ]
  },
  {
   "cell_type": "code",
   "execution_count": 178,
   "metadata": {},
   "outputs": [],
   "source": [
    "# разберем каждый из 3х параметров по отдельности:"
   ]
  },
  {
   "cell_type": "code",
   "execution_count": 179,
   "metadata": {},
   "outputs": [
    {
     "name": "stdout",
     "output_type": "stream",
     "text": [
      "Точность модели по параметру Work_accident: 0.7618\n",
      "Точность модели по параметру time_spend_company: 0.7478\n",
      "Точность модели по параметру satisfaction_level: 0.7531\n"
     ]
    }
   ],
   "source": [
    "list_of_params = [\n",
    "                'Work_accident',\n",
    "                'time_spend_company',\n",
    "                'satisfaction_level'\n",
    "                ]\n",
    "for i in list_of_params:\n",
    "    X = df[[i]]\n",
    "    y = df['left']\n",
    "    X_train, X_test, y_train, y_test = train_test_split(X, y, test_size=0.30, random_state=42)\n",
    "    lda = LinearDiscriminantAnalysis()\n",
    "    # обучаем данные\n",
    "    lda.fit(X_train, y_train)\n",
    "    # делаем прогноз на тестовой выборке\n",
    "    lda.predict(X_test)\n",
    "    # смотрим разницу факта и прогноза\n",
    "    result = pd.DataFrame([y_test, lda.predict(X_test)]).T\n",
    "    # точность модели\n",
    "    print(f'Точность модели по параметру {i}: {round(accuracy_score(y_test, lda.predict(X_test)),4)}')"
   ]
  },
  {
   "cell_type": "code",
   "execution_count": 180,
   "metadata": {},
   "outputs": [],
   "source": [
    "# несмотря на \"хорошую\" точность модели, очевидно, что ей не достаточно \"разносторонних\" данных для расчетов \n",
    "# слишком большой \"перекос\" в работающих сотрудников: точность предсказаний сейчас сопоставима с количеством работающих/не уволившихся. \n",
    "# поэтому достаточно предсказывать по каждому сотрудник то, что человек будет работать/не уволится и точность предсказания будет 76% (по % работающих)"
   ]
  },
  {
   "cell_type": "markdown",
   "metadata": {},
   "source": [
    "### 10. Загрузить jupyter notebook с решением на github и прислать ссылку"
   ]
  }
 ],
 "metadata": {
  "kernelspec": {
   "display_name": "Python 3",
   "language": "python",
   "name": "python3"
  },
  "language_info": {
   "codemirror_mode": {
    "name": "ipython",
    "version": 3
   },
   "file_extension": ".py",
   "mimetype": "text/x-python",
   "name": "python",
   "nbconvert_exporter": "python",
   "pygments_lexer": "ipython3",
   "version": "3.8.5"
  }
 },
 "nbformat": 4,
 "nbformat_minor": 4
}
