{
 "cells": [
  {
   "cell_type": "markdown",
   "metadata": {},
   "source": [
    "# Домашнее задание"
   ]
  },
  {
   "cell_type": "code",
   "execution_count": 22,
   "metadata": {},
   "outputs": [],
   "source": [
    "import numpy as np"
   ]
  },
  {
   "cell_type": "markdown",
   "metadata": {},
   "source": [
    "## Задание 1\n",
    "Создайте numpy array с элементами от числа N до 0 (например, для N = 10 это будет array([9, 8, 7, 6, 5, 4, 3, 2, 1, 0]))."
   ]
  },
  {
   "cell_type": "code",
   "execution_count": 50,
   "metadata": {},
   "outputs": [
    {
     "name": "stdout",
     "output_type": "stream",
     "text": [
      "Вариант 1: [9 8 7 6 5 4 3 2 1 0]\n",
      "Вариант 2: [9 8 7 6 5 4 3 2 1 0]\n"
     ]
    }
   ],
   "source": [
    "n = 10\n",
    "# вариант 1\n",
    "narray_1 = np.arange(0, n)[::-1]\n",
    "# вариант 2\n",
    "narray_2 = np.flipud(range(0, n))\n",
    "print('Вариант 1:', narray_1)\n",
    "print('Вариант 2:', narray_2)"
   ]
  },
  {
   "cell_type": "markdown",
   "metadata": {},
   "source": [
    "## Задание 2\n",
    "Создайте диагональную матрицу с элементами от N до 0. Посчитайте сумму ее значений на диагонали."
   ]
  },
  {
   "cell_type": "code",
   "execution_count": 42,
   "metadata": {},
   "outputs": [
    {
     "data": {
      "text/plain": [
       "array([[9, 0, 0, 0, 0, 0, 0, 0, 0, 0],\n",
       "       [0, 8, 0, 0, 0, 0, 0, 0, 0, 0],\n",
       "       [0, 0, 7, 0, 0, 0, 0, 0, 0, 0],\n",
       "       [0, 0, 0, 6, 0, 0, 0, 0, 0, 0],\n",
       "       [0, 0, 0, 0, 5, 0, 0, 0, 0, 0],\n",
       "       [0, 0, 0, 0, 0, 4, 0, 0, 0, 0],\n",
       "       [0, 0, 0, 0, 0, 0, 3, 0, 0, 0],\n",
       "       [0, 0, 0, 0, 0, 0, 0, 2, 0, 0],\n",
       "       [0, 0, 0, 0, 0, 0, 0, 0, 1, 0],\n",
       "       [0, 0, 0, 0, 0, 0, 0, 0, 0, 0]])"
      ]
     },
     "execution_count": 42,
     "metadata": {},
     "output_type": "execute_result"
    }
   ],
   "source": [
    "N = 10\n",
    "diag_array = np.diag(np.arange(0, N)[::-1], k=0)\n",
    "diag_array"
   ]
  },
  {
   "cell_type": "code",
   "execution_count": 52,
   "metadata": {},
   "outputs": [
    {
     "name": "stdout",
     "output_type": "stream",
     "text": [
      "Вариант 1: 45\n",
      "Вариант 2: 45\n"
     ]
    }
   ],
   "source": [
    "print('Вариант 1:', np.trace(diag_array))\n",
    "print('Вариант 2:', diag_array.diagonal().sum())"
   ]
  },
  {
   "cell_type": "markdown",
   "metadata": {},
   "source": [
    "## Задание 3\n",
    "Решите систему уравнений:\n",
    "    \n",
    "    4x + 2y + z = 4\n",
    "    x + 3y = 12\n",
    "    5y + 4z = -3"
   ]
  },
  {
   "cell_type": "code",
   "execution_count": 62,
   "metadata": {},
   "outputs": [
    {
     "data": {
      "text/plain": [
       "array([ 0.46666667,  3.84444444, -5.55555556])"
      ]
     },
     "execution_count": 62,
     "metadata": {},
     "output_type": "execute_result"
    }
   ],
   "source": [
    "a = np.array([\n",
    "              [4, 2, 1],\n",
    "              [1, 3, 0],\n",
    "              [0, 5, 4]\n",
    "             ])\n",
    "b = np.array([4, 12, -3])\n",
    "np.linalg.solve(a, b)"
   ]
  },
  {
   "cell_type": "code",
   "execution_count": 63,
   "metadata": {},
   "outputs": [
    {
     "data": {
      "text/plain": [
       "True"
      ]
     },
     "execution_count": 63,
     "metadata": {},
     "output_type": "execute_result"
    }
   ],
   "source": [
    "# проверка:\n",
    "np.allclose(np.dot(a, np.array([ 0.46666667,  3.84444444, -5.55555556])), b)"
   ]
  },
  {
   "cell_type": "markdown",
   "metadata": {},
   "source": [
    "## Задание 4\n",
    "Имеется матрица покупок в интернет-магазине. Столбец А - ID пользователя. Остальные столбцы - количество покупок категорий товаров этим пользователем:\n",
    "\n",
    "Матрица в виде numpy array\n",
    "\n",
    "    users_stats = np.array(\n",
    "        [\n",
    "            [2, 1, 0, 0, 0, 0],\n",
    "            [1, 1, 2, 1, 0, 0],\n",
    "            [2, 0, 1, 0, 0, 0],\n",
    "            [1, 1, 2, 1, 0, 1],\n",
    "            [0, 0, 1, 2, 0, 0],\n",
    "            [0, 0, 0, 0, 0, 5],\n",
    "            [1, 0, 0, 0, 0, 0],\n",
    "            [0, 1, 1, 0, 0, 0],\n",
    "            [0, 0, 0, 1, 1, 3],\n",
    "            [1, 0, 0, 2, 1, 4]\n",
    "        ], \n",
    "        np.int32\n",
    "    )\n",
    "\n",
    "На сайт заходит очередной посетитель, о покупках которого известно следующее:\n",
    "\n",
    "    next_user_stats = np.array([0, 1, 2, 0, 0, 0])\n",
    "\n",
    "Найдите самого похожего пользователя. Т. е. посчитайте косинусное сходство между этим пользователем и всеми пользователями из массива user_stats"
   ]
  },
  {
   "cell_type": "code",
   "execution_count": 67,
   "metadata": {},
   "outputs": [],
   "source": [
    "users_stats = np.array(\n",
    "    [\n",
    "        [2, 1, 0, 0, 0, 0],\n",
    "        [1, 1, 2, 1, 0, 0],\n",
    "        [2, 0, 1, 0, 0, 0],\n",
    "        [1, 1, 2, 1, 0, 1],\n",
    "        [0, 0, 1, 2, 0, 0],\n",
    "        [0, 0, 0, 0, 0, 5],\n",
    "        [1, 0, 0, 0, 0, 0],\n",
    "        [0, 1, 1, 0, 0, 0],\n",
    "        [0, 0, 0, 1, 1, 3],\n",
    "        [1, 0, 0, 2, 1, 4]\n",
    "    ], \n",
    "    np.int32\n",
    ")\n",
    "\n",
    "next_user_stats = np.array([0, 1, 2, 0, 0, 0])"
   ]
  },
  {
   "cell_type": "code",
   "execution_count": 116,
   "metadata": {},
   "outputs": [],
   "source": [
    "def cosine( a, b ): # фукцию взял из лекции\n",
    "    \"\"\"\n",
    "    Подсчет косинуса угла между векторами a, b по их координатам\n",
    "    \"\"\"\n",
    "    \n",
    "    # длины векторов\n",
    "    aLength = np.linalg.norm( a )\n",
    "    bLength = np.linalg.norm( b )\n",
    "    \n",
    "    return np.dot( a, b ) / ( aLength * bLength )"
   ]
  },
  {
   "cell_type": "code",
   "execution_count": 134,
   "metadata": {},
   "outputs": [
    {
     "name": "stdout",
     "output_type": "stream",
     "text": [
      "Самый похожий покупатель: 7. Похожесть: 0.9486832980505138\n"
     ]
    }
   ],
   "source": [
    "max_value = 0\n",
    "for el, i in enumerate(users_stats): # перебираем значения в массиве\n",
    "    value = cosine(i, next_user_stats) # вычисляем \"похожесть\"\n",
    "    if max_value < value: \n",
    "        max_value = value # сохраняем максимальное значение \"похожести\"\n",
    "        closest_buyer = el # запоминаем значение покупателя\n",
    "print(f'Самый похожий покупатель: {closest_buyer}. Похожесть: {max_value}')"
   ]
  }
 ],
 "metadata": {
  "kernelspec": {
   "display_name": "Python 3",
   "language": "python",
   "name": "python3"
  },
  "language_info": {
   "codemirror_mode": {
    "name": "ipython",
    "version": 3
   },
   "file_extension": ".py",
   "mimetype": "text/x-python",
   "name": "python",
   "nbconvert_exporter": "python",
   "pygments_lexer": "ipython3",
   "version": "3.8.5"
  }
 },
 "nbformat": 4,
 "nbformat_minor": 4
}
