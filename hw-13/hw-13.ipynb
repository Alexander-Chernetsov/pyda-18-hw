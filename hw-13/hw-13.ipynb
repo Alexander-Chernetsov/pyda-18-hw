{
 "cells": [
  {
   "cell_type": "markdown",
   "metadata": {},
   "source": [
    "## Домашнее задание к лекции \"Основы веб-скрапинга и работы с API\""
   ]
  },
  {
   "cell_type": "markdown",
   "metadata": {},
   "source": [
    "### Задание 1."
   ]
  },
  {
   "cell_type": "markdown",
   "metadata": {},
   "source": [
    "#### Обязательная часть\n",
    "> Будем парсить страницу со свежими новостям на habr.com/ru/all/. \\\n",
    "Вам необходимо собирать только те статьи, в которых встречается хотя бы одно требуемое ключевое слово. Эти слова определяем в начале кода в переменной, например: \\\n",
    "KEYWORDS = ['python', 'парсинг'] \\\n",
    "Поиск вести по всей доступной preview-информации (это информация, доступная непосредственно с текущей страницы) \\\n",
    "В итоге должен формироваться датафрейм вида: <дата> - <заголовок> - <ссылка>\n",
    "\n",
    "#### Дополнительная часть (необязательная)\n",
    "> Улучшить скрипт так, чтобы он анализировал не только preview-информацию статьи, но и весь текст статьи целиком. \\\n",
    "Для этого потребуется получать страницы статей и искать по тексту внутри этой страницы. \\\n",
    "Итоговый датафрейм формировать со столбцами: <дата> - <заголовок> - <ссылка> - <текст_статьи>"
   ]
  },
  {
   "cell_type": "code",
   "execution_count": 1,
   "metadata": {},
   "outputs": [],
   "source": [
    "import requests\n",
    "from bs4 import BeautifulSoup\n",
    "import pandas as pd\n",
    "import time"
   ]
  },
  {
   "cell_type": "code",
   "execution_count": 13,
   "metadata": {},
   "outputs": [],
   "source": [
    "# список ключевых слов\n",
    "KEYWORDS = ['samsung', 'python', 'java']\n",
    "URL = 'https://m.habr.com/ru/news/page'\n",
    "URLs = 'https://m.habr.com'\n",
    "# ограничиваем глубину выдачи в 5 страниц\n",
    "pages = range(1, 10)\n",
    "all_posts = pd.DataFrame()"
   ]
  },
  {
   "cell_type": "code",
   "execution_count": 14,
   "metadata": {},
   "outputs": [
    {
     "data": {
      "text/html": [
       "<div>\n",
       "<style scoped>\n",
       "    .dataframe tbody tr th:only-of-type {\n",
       "        vertical-align: middle;\n",
       "    }\n",
       "\n",
       "    .dataframe tbody tr th {\n",
       "        vertical-align: top;\n",
       "    }\n",
       "\n",
       "    .dataframe thead th {\n",
       "        text-align: right;\n",
       "    }\n",
       "</style>\n",
       "<table border=\"1\" class=\"dataframe\">\n",
       "  <thead>\n",
       "    <tr style=\"text-align: right;\">\n",
       "      <th></th>\n",
       "      <th>date</th>\n",
       "      <th>title</th>\n",
       "      <th>link</th>\n",
       "    </tr>\n",
       "  </thead>\n",
       "  <tbody>\n",
       "    <tr>\n",
       "      <th>0</th>\n",
       "      <td>2021-03-25</td>\n",
       "      <td>Samsung представила модуль памяти DDR5 на 512 ГБ</td>\n",
       "      <td>https://m.habr.com/ru/news/t/548950/</td>\n",
       "    </tr>\n",
       "    <tr>\n",
       "      <th>0</th>\n",
       "      <td>2021-03-17</td>\n",
       "      <td>Samsung предупредила о возможном отказе от Gal...</td>\n",
       "      <td>https://m.habr.com/ru/news/t/547596/</td>\n",
       "    </tr>\n",
       "    <tr>\n",
       "      <th>0</th>\n",
       "      <td>2021-03-17</td>\n",
       "      <td>Huawei начнет брать с Apple и Samsung лицензио...</td>\n",
       "      <td>https://m.habr.com/ru/news/t/547530/</td>\n",
       "    </tr>\n",
       "  </tbody>\n",
       "</table>\n",
       "</div>"
      ],
      "text/plain": [
       "         date                                              title  \\\n",
       "0  2021-03-25   Samsung представила модуль памяти DDR5 на 512 ГБ   \n",
       "0  2021-03-17  Samsung предупредила о возможном отказе от Gal...   \n",
       "0  2021-03-17  Huawei начнет брать с Apple и Samsung лицензио...   \n",
       "\n",
       "                                   link  \n",
       "0  https://m.habr.com/ru/news/t/548950/  \n",
       "0  https://m.habr.com/ru/news/t/547596/  \n",
       "0  https://m.habr.com/ru/news/t/547530/  "
      ]
     },
     "execution_count": 14,
     "metadata": {},
     "output_type": "execute_result"
    }
   ],
   "source": [
    "for page in pages:\n",
    "    req = requests.get(URL+str(page))\n",
    "    soup = BeautifulSoup(req.text, 'html.parser')\n",
    "    # извлекаем посты\n",
    "    posts = soup.find_all(class_='tm-article-snippet')\n",
    "    time.sleep(0.3)\n",
    "    for post in posts:\n",
    "        date = pd.to_datetime(post.find(class_='tm-article-snippet__datetime-published').find('time').get('datetime'), dayfirst=True).date()\n",
    "        title = post.find(class_='tm-article-snippet__title tm-article-snippet__title_h2').text    \n",
    "        link = URLs+post.find(class_='tm-article-snippet__title-link').get('href')\n",
    "        for keyword in KEYWORDS: # ищем вхождение каждого выбраного слова\n",
    "            if keyword.lower() in title.lower().split(): # в тайтле, сохраняем при вхождении любого\n",
    "                row = {'date': date, 'title': title, 'link': link}\n",
    "                all_posts = pd.concat([all_posts, pd.DataFrame([row])])\n",
    "                continue                                 # при первом найденном выходим из проверки поста, не перебираем всё\n",
    "all_posts.head()"
   ]
  },
  {
   "cell_type": "markdown",
   "metadata": {},
   "source": [
    "### Задание 2."
   ]
  },
  {
   "cell_type": "markdown",
   "metadata": {},
   "source": [
    "#### Обязательная часть\n",
    "> Написать скрипт, который будет проверять список e-mail адресов на утечку при помощи сервиса Avast Hack Ckeck. Список email-ов задаем переменной в начале кода:\n",
    "EMAIL = [xxx@x.ru, yyy@y.com] \\\n",
    "В итоге должен формироваться датафрейм со столбцами: <почта> - <дата утечки> - <источник утечки> - <описание утечки> \\\n",
    "Подсказка: сервис работает при помощи \"скрытого\" API. Внимательно изучите post-запросы. \n",
    "\n",
    "#### Дополнительная часть (необязательная)\n",
    "> Написать скрипт, который будет получать 50 последних постов указанной группы во Вконтакте. \\\n",
    "Документация к API VK: https://vk.com/dev/methods , вам поможет метод wall.get \\\n",
    "GROUP = 'netology'  \\\n",
    "TOKEN = УДАЛЯЙТЕ В ВЕРСИИ ДЛЯ ПРОВЕРКИ, НА GITHUB НЕ ВЫКЛАДЫВАТЬ \\\n",
    "В итоге должен формироваться датафрейм со столбцами: <дата поста> - <текст поста> "
   ]
  },
  {
   "cell_type": "code",
   "execution_count": 664,
   "metadata": {},
   "outputs": [],
   "source": [
    "EMAILS = ['1048888@rambler.ru', 'info@tile.delivery', '123@ya.ru']\n",
    "url = 'https://identityprotection.avast.com/v1/web/query/site-breaches/unauthorized-data'\n",
    "headers = {'Vaar-Version': '0', 'Vaar-Header-App-Product-Name': 'hackcheck-web-avast', 'Vaar-Header-App-Build-Version': '1.0.0'}\n",
    "all_allerts = pd.DataFrame()"
   ]
  },
  {
   "cell_type": "code",
   "execution_count": 659,
   "metadata": {},
   "outputs": [],
   "source": [
    "email_request = {'emailAddresses':EMAILS}\n",
    "avast_response = requests.post(url, json = email_request, headers = headers)\n",
    "union_request = avast_response.json()"
   ]
  },
  {
   "cell_type": "code",
   "execution_count": 665,
   "metadata": {},
   "outputs": [
    {
     "data": {
      "text/html": [
       "<div>\n",
       "<style scoped>\n",
       "    .dataframe tbody tr th:only-of-type {\n",
       "        vertical-align: middle;\n",
       "    }\n",
       "\n",
       "    .dataframe tbody tr th {\n",
       "        vertical-align: top;\n",
       "    }\n",
       "\n",
       "    .dataframe thead th {\n",
       "        text-align: right;\n",
       "    }\n",
       "</style>\n",
       "<table border=\"1\" class=\"dataframe\">\n",
       "  <thead>\n",
       "    <tr style=\"text-align: right;\">\n",
       "      <th></th>\n",
       "      <th>email</th>\n",
       "      <th>date</th>\n",
       "      <th>source</th>\n",
       "      <th>description</th>\n",
       "    </tr>\n",
       "  </thead>\n",
       "  <tbody>\n",
       "    <tr>\n",
       "      <th>0</th>\n",
       "      <td>1048888@rambler.ru</td>\n",
       "      <td>2016-10-23</td>\n",
       "      <td>rambler.ru</td>\n",
       "      <td>On February 17, 2012, Russian email provider R...</td>\n",
       "    </tr>\n",
       "    <tr>\n",
       "      <th>0</th>\n",
       "      <td>123@ya.ru</td>\n",
       "      <td>2020-12-10</td>\n",
       "      <td>raver.fm</td>\n",
       "      <td>In November 2020, a collection of over 23,000 ...</td>\n",
       "    </tr>\n",
       "    <tr>\n",
       "      <th>0</th>\n",
       "      <td>123@ya.ru</td>\n",
       "      <td>2021-01-21</td>\n",
       "      <td>bonobos.com</td>\n",
       "      <td>At an unconfirmed date, the men's clothing ret...</td>\n",
       "    </tr>\n",
       "    <tr>\n",
       "      <th>0</th>\n",
       "      <td>123@ya.ru</td>\n",
       "      <td>2020-12-10</td>\n",
       "      <td>light.muztorg.ru</td>\n",
       "      <td>In November 2020, a collection of over 23,000 ...</td>\n",
       "    </tr>\n",
       "    <tr>\n",
       "      <th>0</th>\n",
       "      <td>123@ya.ru</td>\n",
       "      <td>2020-12-17</td>\n",
       "      <td>btravel.ru</td>\n",
       "      <td>In November 2020, a collection of over 23,000 ...</td>\n",
       "    </tr>\n",
       "    <tr>\n",
       "      <th>0</th>\n",
       "      <td>123@ya.ru</td>\n",
       "      <td>2020-12-03</td>\n",
       "      <td>flexicon.uk.com</td>\n",
       "      <td>In November 2020, a collection of over 23,000 ...</td>\n",
       "    </tr>\n",
       "    <tr>\n",
       "      <th>0</th>\n",
       "      <td>123@ya.ru</td>\n",
       "      <td>2020-12-10</td>\n",
       "      <td>techlinedisk.ru</td>\n",
       "      <td>In November 2020, a collection of over 23,000 ...</td>\n",
       "    </tr>\n",
       "    <tr>\n",
       "      <th>0</th>\n",
       "      <td>123@ya.ru</td>\n",
       "      <td>2020-12-10</td>\n",
       "      <td>zildjian.ru</td>\n",
       "      <td>In November 2020, a collection of over 23,000 ...</td>\n",
       "    </tr>\n",
       "    <tr>\n",
       "      <th>0</th>\n",
       "      <td>123@ya.ru</td>\n",
       "      <td>2020-12-10</td>\n",
       "      <td>gkist.su</td>\n",
       "      <td>In November 2020, a collection of over 23,000 ...</td>\n",
       "    </tr>\n",
       "    <tr>\n",
       "      <th>0</th>\n",
       "      <td>123@ya.ru</td>\n",
       "      <td>2020-12-10</td>\n",
       "      <td>tltmail.ru</td>\n",
       "      <td>In November 2020, a collection of over 23,000 ...</td>\n",
       "    </tr>\n",
       "  </tbody>\n",
       "</table>\n",
       "</div>"
      ],
      "text/plain": [
       "                email        date            source  \\\n",
       "0  1048888@rambler.ru  2016-10-23        rambler.ru   \n",
       "0           123@ya.ru  2020-12-10          raver.fm   \n",
       "0           123@ya.ru  2021-01-21       bonobos.com   \n",
       "0           123@ya.ru  2020-12-10  light.muztorg.ru   \n",
       "0           123@ya.ru  2020-12-17        btravel.ru   \n",
       "0           123@ya.ru  2020-12-03   flexicon.uk.com   \n",
       "0           123@ya.ru  2020-12-10   techlinedisk.ru   \n",
       "0           123@ya.ru  2020-12-10       zildjian.ru   \n",
       "0           123@ya.ru  2020-12-10          gkist.su   \n",
       "0           123@ya.ru  2020-12-10        tltmail.ru   \n",
       "\n",
       "                                         description  \n",
       "0  On February 17, 2012, Russian email provider R...  \n",
       "0  In November 2020, a collection of over 23,000 ...  \n",
       "0  At an unconfirmed date, the men's clothing ret...  \n",
       "0  In November 2020, a collection of over 23,000 ...  \n",
       "0  In November 2020, a collection of over 23,000 ...  \n",
       "0  In November 2020, a collection of over 23,000 ...  \n",
       "0  In November 2020, a collection of over 23,000 ...  \n",
       "0  In November 2020, a collection of over 23,000 ...  \n",
       "0  In November 2020, a collection of over 23,000 ...  \n",
       "0  In November 2020, a collection of over 23,000 ...  "
      ]
     },
     "execution_count": 665,
     "metadata": {},
     "output_type": "execute_result"
    }
   ],
   "source": [
    "for key, values in union_request['summary'].items():\n",
    "    for key_jun, value in values.items():\n",
    "        for i in value:\n",
    "            email = key\n",
    "            i = str(i)\n",
    "            date = pd.to_datetime(union_request['breaches'][i]['publishDate'], dayfirst=False).date()\n",
    "            source = union_request['breaches'][i]['site']\n",
    "            description = union_request['breaches'][i]['description']\n",
    "            row = {'email': email, 'date': date, 'source': source, 'description': description}\n",
    "            all_allerts = pd.concat([all_allerts, pd.DataFrame([row])])\n",
    "all_allerts.head(10)"
   ]
  }
 ],
 "metadata": {
  "kernelspec": {
   "display_name": "Python 3",
   "language": "python",
   "name": "python3"
  },
  "language_info": {
   "codemirror_mode": {
    "name": "ipython",
    "version": 3
   },
   "file_extension": ".py",
   "mimetype": "text/x-python",
   "name": "python",
   "nbconvert_exporter": "python",
   "pygments_lexer": "ipython3",
   "version": "3.8.5"
  }
 },
 "nbformat": 4,
 "nbformat_minor": 4
}
