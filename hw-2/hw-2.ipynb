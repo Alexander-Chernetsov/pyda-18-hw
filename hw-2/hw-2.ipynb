{
 "cells": [
  {
   "cell_type": "markdown",
   "metadata": {},
   "source": [
    "# Домашнее задание 2"
   ]
  },
  {
   "cell_type": "markdown",
   "metadata": {},
   "source": [
    "### Задание 1"
   ]
  },
  {
   "cell_type": "code",
   "execution_count": 66,
   "metadata": {},
   "outputs": [
    {
     "name": "stdin",
     "output_type": "stream",
     "text": [
      "Введите слово из латинских букв:  test\n"
     ]
    },
    {
     "name": "stdout",
     "output_type": "stream",
     "text": [
      "es\n"
     ]
    }
   ],
   "source": [
    "import re\n",
    "\n",
    "user_string = \"0\"\n",
    "while not re.match(\"^[A-Za-z]*$\", user_string):\n",
    "    user_string = input(\"Введите слово из латинских букв: \")\n",
    "    \n",
    "len_ = len(user_string)\n",
    "    \n",
    "if len_ % 2 == 0:\n",
    "    print(user_string[int(len_/2-1) : int(len_/2+1)])\n",
    "else:\n",
    "    print(user_string[int(len_/2)])"
   ]
  },
  {
   "cell_type": "markdown",
   "metadata": {},
   "source": [
    "### Задание 2"
   ]
  },
  {
   "cell_type": "code",
   "execution_count": 70,
   "metadata": {},
   "outputs": [
    {
     "name": "stdin",
     "output_type": "stream",
     "text": [
      "Введите число:  1\n",
      "Введите число:  4\n",
      "Введите число:  6\n",
      "Введите число:  0\n"
     ]
    },
    {
     "name": "stdout",
     "output_type": "stream",
     "text": [
      "11\n"
     ]
    }
   ],
   "source": [
    "def getNumber_func ():\n",
    "    while True:\n",
    "        getNumber = input(\"Введите число: \")\n",
    "        if getNumber.isdigit() : return getNumber\n",
    "\n",
    "user_sum = 0  \n",
    "user_input = 1 # чтобы не вылететь из цикла\n",
    "\n",
    "while user_input != 0:\n",
    "    user_input = int(getNumber_func())\n",
    "    user_sum += user_input\n",
    "    \n",
    "print(user_sum)"
   ]
  },
  {
   "cell_type": "markdown",
   "metadata": {},
   "source": [
    "### Задание 3"
   ]
  },
  {
   "cell_type": "code",
   "execution_count": 158,
   "metadata": {},
   "outputs": [
    {
     "name": "stdout",
     "output_type": "stream",
     "text": [
      "Идеальные пары:\n",
      "Alex + Emma\n",
      "Arthur + Kate\n",
      "John + Kira\n",
      "Peter + Liza\n",
      "Richard + Trisha\n"
     ]
    }
   ],
   "source": [
    "boys = ['Peter', 'Alex', 'John', 'Arthur', 'Richard']\n",
    "girls = ['Kate', 'Liza', 'Kira', 'Emma', 'Trisha']\n",
    "\n",
    "#boys = ['Peter', 'Alex', 'John', 'Arthur', 'Richard', 'Michael']\n",
    "#girls = ['Kate', 'Liza', 'Kira', 'Emma', 'Trisha']\n",
    "\n",
    "if len(boys) != len(girls):\n",
    "    print('Внимание, кто-то может остаться без пары!')\n",
    "else:\n",
    "    new_boys = sorted(boys).copy()\n",
    "    new_girls = sorted(girls).copy()\n",
    "    print(\"Идеальные пары:\")\n",
    "    for i in range(len(new_boys)):\n",
    "        print(new_boys[i], '+', new_girls[i])"
   ]
  },
  {
   "cell_type": "markdown",
   "metadata": {},
   "source": [
    "### Задание 4"
   ]
  },
  {
   "cell_type": "code",
   "execution_count": 121,
   "metadata": {},
   "outputs": [
    {
     "name": "stdout",
     "output_type": "stream",
     "text": [
      "Средняя температура в странах:\n",
      "Thailand 23.9 C\n",
      "Germany 13.8 C\n",
      "Russia 3.7 C\n",
      "Poland 12.0 C\n"
     ]
    }
   ],
   "source": [
    "import numpy as np\n",
    "\n",
    "countries_temperature = [\n",
    "    ['Thailand', [75.2, 77, 78.8, 73.4, 68, 75.2, 77]],\n",
    "    ['Germany', [57.2, 55.4, 59, 59, 53.6]],\n",
    "    ['Russia', [35.6, 37.4, 39.2, 41, 42.8, 39.2, 35.6]],\n",
    "    ['Poland', [50, 50, 53.6, 57.2, 55.4, 55.4]]\n",
    "]\n",
    "\n",
    "print('Средняя температура в странах:')\n",
    "for i in countries_temperature:\n",
    "    print(i[0], round((np.mean(i[1])- 32)*5/9, 1), \"C\")"
   ]
  },
  {
   "cell_type": "markdown",
   "metadata": {},
   "source": [
    "### Задание 5"
   ]
  },
  {
   "cell_type": "code",
   "execution_count": 139,
   "metadata": {},
   "outputs": [
    {
     "name": "stdout",
     "output_type": "stream",
     "text": [
      "145.33\n"
     ]
    }
   ],
   "source": [
    "#stream = [\n",
    "#    '2018-01-01,user1,3',\n",
    "#    '2018-01-07,user1,4',\n",
    "#    '2018-03-29,user1,1',\n",
    "#    '2018-04-04,user1,13',\n",
    "#    '2018-01-05,user2,7',\n",
    "#    '2018-06-14,user3,4',\n",
    "#    '2018-07-02,user3,10',\n",
    "#    '2018-03-21,user4,19',\n",
    "#    '2018-03-22,user4,4',\n",
    "#    '2018-04-22,user4,8',\n",
    "#    '2018-05-03,user4,9',\n",
    "#    '2018-05-11,user4,11',\n",
    "#]\n",
    "\n",
    "stream = [\n",
    "    '2018-01-01,user100,150',\n",
    "    '2018-01-07,user99,205',\n",
    "    '2018-03-29,user1001,81'\n",
    "]\n",
    "\n",
    "sessions = 0\n",
    "users = []\n",
    "\n",
    "for i in stream:\n",
    "    split_stream = i.split(\",\")\n",
    "    sessions += int(split_stream[2])\n",
    "    if split_stream[1] not in users:\n",
    "        users.append(split_stream[1])\n",
    "\n",
    "print(round(sessions/len(users),2))"
   ]
  },
  {
   "cell_type": "markdown",
   "metadata": {},
   "source": [
    "### Задание 6"
   ]
  },
  {
   "cell_type": "code",
   "execution_count": 177,
   "metadata": {},
   "outputs": [
    {
     "name": "stdout",
     "output_type": "stream",
     "text": [
      "[1, 2, 15, 200]\n"
     ]
    }
   ],
   "source": [
    "#txt = input()\n",
    "#txt = '4 8 0 3 4 2 0 3'\n",
    "#txt = '1 1 2 2 3 3'\n",
    "txt = '10 15 15 103 200 200 200 1 1 1 1 1 2 2 2'\n",
    "\n",
    "txt_arr = txt.split()\n",
    "double_arr = []\n",
    "\n",
    "int_arr = [] \n",
    "for i in range(len(txt_arr)): \n",
    "    int_arr.append(int(txt_arr[i])) \n",
    "        \n",
    "for i in sorted(int_arr): \n",
    "    if int_arr.count(i) > 1 and i not in double_arr:\n",
    "        double_arr.append(i)\n",
    "       \n",
    "print(double_arr)"
   ]
  }
 ],
 "metadata": {
  "kernelspec": {
   "display_name": "Python 3",
   "language": "python",
   "name": "python3"
  },
  "language_info": {
   "codemirror_mode": {
    "name": "ipython",
    "version": 3
   },
   "file_extension": ".py",
   "mimetype": "text/x-python",
   "name": "python",
   "nbconvert_exporter": "python",
   "pygments_lexer": "ipython3",
   "version": "3.8.5"
  }
 },
 "nbformat": 4,
 "nbformat_minor": 4
}
