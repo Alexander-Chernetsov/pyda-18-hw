{
 "cells": [
  {
   "cell_type": "markdown",
   "metadata": {},
   "source": [
    "## Домашнее задание к лекции «Случайные события. Случайные величины»"
   ]
  },
  {
   "cell_type": "markdown",
   "metadata": {},
   "source": [
    "#### Смоделировать игру против лотерейного автомата типа “777”. \n",
    "\n",
    "Игрок платит 1 руб., после чего выпадает случайное целое число, равномерно распределенное от 0 до 999. \n",
    "При некоторых значениях числа игрок получает выигрыш (см. справа)\n",
    "Выгодна ли игра игроку?\n",
    "Сколько в среднем приобретает\n",
    "или теряет игрок за одну игру?\n",
    "\n",
    ">777: 200 руб. \\\n",
    "999: 100 руб. \\\n",
    "555: 50 руб. \\\n",
    "333: 15 руб. \\\n",
    "111: 10 руб. \\\n",
    "x77: 5 руб. \\\n",
    "xx7: 3 руб. \\\n",
    "x00: 2 руб. \\\n",
    "xx0: 1 руб. \\\n",
    "x любая цифра"
   ]
  },
  {
   "cell_type": "code",
   "execution_count": 143,
   "metadata": {},
   "outputs": [],
   "source": [
    "import numpy as np"
   ]
  },
  {
   "cell_type": "code",
   "execution_count": 144,
   "metadata": {},
   "outputs": [],
   "source": [
    "# количество итераций\n",
    "quantity_of_turns = 5000000\n",
    "# стоимость итерации\n",
    "cost_of_turn = 1\n",
    "# рейндж генератора чисел\n",
    "rang = 1000\n",
    "# начальный словарь выигрышей\n",
    "dict_of_gains = {    \n",
    "                777: 200, \n",
    "                999: 100,\n",
    "                555: 50,\n",
    "                333: 15,\n",
    "                111: 10,\n",
    "                }"
   ]
  },
  {
   "cell_type": "code",
   "execution_count": 145,
   "metadata": {},
   "outputs": [],
   "source": [
    "#формируем список условий дополнительных выигрышей:\n",
    "conditions=[[77, 100, 5],\n",
    "           [7, 10, 3],\n",
    "           [0, 100, 2],\n",
    "           [0, 10, 1]\n",
    "           ]\n",
    "# пишем функцию дополнения словаря выигрыша\n",
    "# передаем словарь, рейндж, [условие, делитель, выигрыш]\n",
    "def gain_add(dct, rng, conditions):\n",
    "    cond, dlt, gain = conditions\n",
    "    for i in range(0, rng):\n",
    "        # если сгенерированное число подходит под условие после \n",
    "        # деления на делитель и такого значения в словаре еще нет\n",
    "        # (защищаемся от более высоких значений выигрышей, к примеру 777)\n",
    "        # добавляем ключ и выигрыш\n",
    "        if i % dlt == cond and dct.get(i) == None: \n",
    "            dct.update({i: gain}) \n",
    "    return\n",
    "# пройдемся по функции значениями списка условий дополнительных выигрышей\n",
    "# и доформируем словарь выигрышей\n",
    "for item in conditions:\n",
    "    gain_add(dict_of_gains, rang, item)"
   ]
  },
  {
   "cell_type": "code",
   "execution_count": 146,
   "metadata": {},
   "outputs": [],
   "source": [
    "# пишем функцию результата испытаний (получает количество итераций, словарь выигрышей, рейндж генерации числа)\n",
    "def trainings(turns, dct, rng):\n",
    "    total_costs = 0\n",
    "    total_gains = 0\n",
    "    for i in range(1, turns+1):\n",
    "        result = np.random.randint(0, rang) \n",
    "        total_costs += cost_of_turn # прибавляем стоимость итерации к общей стоимости итераций\n",
    "        total_gains += dct.get(result, 0) # прибавляем выигрыш из словаря (если его нет - прибавляем 0) к общему выигрышу\n",
    "    total_result=total_gains-total_costs # считаем экономику (выигрыш минус стоимость итераций)\n",
    "    total_result_per_turn=total_result/turns # считаем результат за ход как экономика делить на количество итераций\n",
    "    return print(f'Общий результат игры: {total_result}. Средний результат за ход: {total_result_per_turn}')"
   ]
  },
  {
   "cell_type": "code",
   "execution_count": 147,
   "metadata": {},
   "outputs": [
    {
     "name": "stdout",
     "output_type": "stream",
     "text": [
      "Общий результат игры: -993645. Средний результат за ход: -0.198729\n"
     ]
    }
   ],
   "source": [
    "trainings(quantity_of_turns, dict_of_gains, rang)"
   ]
  },
  {
   "cell_type": "markdown",
   "metadata": {},
   "source": [
    "## насколько я помню в этих автоматах заложена 20% потерь за итерацию, что в принципе и показывает моя имитация на 5 миллионах итераций"
   ]
  }
 ],
 "metadata": {
  "kernelspec": {
   "display_name": "Python 3",
   "language": "python",
   "name": "python3"
  },
  "language_info": {
   "codemirror_mode": {
    "name": "ipython",
    "version": 3
   },
   "file_extension": ".py",
   "mimetype": "text/x-python",
   "name": "python",
   "nbconvert_exporter": "python",
   "pygments_lexer": "ipython3",
   "version": "3.8.5"
  }
 },
 "nbformat": 4,
 "nbformat_minor": 4
}
