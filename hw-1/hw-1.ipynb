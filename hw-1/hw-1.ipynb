{
 "cells": [
  {
   "cell_type": "markdown",
   "metadata": {},
   "source": [
    "Домашнее задание к лекции \"Основы Python\""
   ]
  },
  {
   "cell_type": "markdown",
   "metadata": {},
   "source": [
    "Задание 1"
   ]
  },
  {
   "cell_type": "code",
   "execution_count": 355,
   "metadata": {},
   "outputs": [
    {
     "name": "stdout",
     "output_type": "stream",
     "text": [
      "Введите первую фразу: ападвдплвыопд\n",
      "Введите вторую фразу: ыпвыдлпрдлаворплдвырп\n",
      "Фраза 2 длиннее фразы 1\n",
      "Good bye!\n"
     ]
    }
   ],
   "source": [
    "phrase_1 = input('Введите первую фразу: ')\n",
    "phrase_2 = input('Введите вторую фразу: ')\n",
    "\n",
    "if len(phrase_1)>len(phrase_2):\n",
    "    print('Фраза 1 длиннее фразы 2')\n",
    "elif len(phrase_1)<len(phrase_2):\n",
    "    print('Фраза 2 длиннее фразы 1')\n",
    "else:\n",
    "    print('Фразы равной длины')\n",
    "\n",
    "print(\"Good bye!\")"
   ]
  },
  {
   "cell_type": "markdown",
   "metadata": {},
   "source": [
    "Задание 2"
   ]
  },
  {
   "cell_type": "code",
   "execution_count": 356,
   "metadata": {},
   "outputs": [
    {
     "name": "stdout",
     "output_type": "stream",
     "text": [
      "Введите год: 2020\n",
      "Високосный год\n",
      "Good bye!\n"
     ]
    }
   ],
   "source": [
    "def getNumber_func ():\n",
    "    while True:\n",
    "        getNumber = input('Введите год: ')\n",
    "        if getNumber.isdigit() : return getNumber\n",
    "\n",
    "int_year = getNumber_func()\n",
    "\n",
    "if int(int_year) % 4 == 0 and int(int_year) % 100 != 0 or int(int_year) % 400 == 0:\n",
    "    print('Високосный год')\n",
    "else:\n",
    "    print('Обычный год')\n",
    "    \n",
    "print(\"Good bye!\")"
   ]
  },
  {
   "cell_type": "markdown",
   "metadata": {},
   "source": [
    "Задание 3"
   ]
  },
  {
   "cell_type": "code",
   "execution_count": 433,
   "metadata": {
    "code_folding": []
   },
   "outputs": [
    {
     "name": "stdout",
     "output_type": "stream",
     "text": [
      "Введите день рождения (от 1 до 31): 20\n",
      "Введите месяц рождения (от 1 до 12): 1\n",
      "Вы однозначно  Козерог\n",
      "Good bye!\n"
     ]
    }
   ],
   "source": [
    "# исходные данные в виде массива (знак зодиака, период как день, месяц, день, месяц)\n",
    "arr_zodiac = [ \n",
    "            ['Овен', 21, 3, 20, 4],\n",
    "            ['Телец', 21, 4, 21, 5],\n",
    "            ['Близнец', 22, 5, 21, 6],\n",
    "            ['Рак', 22, 6, 22, 7],\n",
    "            ['Лев', 23, 7, 21, 8],\n",
    "            ['Дева', 22, 8, 23, 9],\n",
    "            ['Весы', 24, 9, 23, 10],\n",
    "            ['Скорпион', 24, 10, 22, 11],\n",
    "            ['Стрелец', 23, 11, 22, 12],\n",
    "            ['Козерог', 23, 12, 20, 1],\n",
    "            ['Водолей', 21, 1, 19, 2],\n",
    "            ['Рыба', 20, 2, 20, 3]\n",
    "             ]\n",
    "\n",
    "# загоняем в датафрейм, назначаем именя столбцов\n",
    "df_zodiac = pd.DataFrame(arr_zodiac, columns=['Знак', 'День начала', 'Месяц начала', 'День окончания', 'Месяц окончания'])\n",
    "\n",
    "def getDay_func ():\n",
    "    while True:\n",
    "        getDay = input('Введите день рождения (от 1 до 31): ')\n",
    "        if getDay.isdigit() and int(getDay) >= 1 and int(getDay) <= 31 : return getDay\n",
    "\n",
    "def getMonth_func ():\n",
    "    while True:\n",
    "        getMonth = input('Введите месяц рождения (от 1 до 12): ')\n",
    "        if getMonth.isdigit() and int(getMonth) >= 1 and int(getMonth) <= 12 : return getMonth\n",
    "\n",
    "int_day = int(getDay_func())\n",
    "int_month = int(getMonth_func())\n",
    "\n",
    "num_zodiac=int_month*100+int_day\n",
    "\n",
    "df_zodiac['Start_Zodiac']=df_zodiac['Месяц начала']*100+df_zodiac['День начала']\n",
    "df_zodiac['Finish_Zodiac']=df_zodiac['Месяц окончания']*100+df_zodiac['День окончания']\n",
    "\n",
    "for i in range(len(df_zodiac)):\n",
    "    if df_zodiac['Start_Zodiac'][i] < df_zodiac['Finish_Zodiac'][i]:\n",
    "        if df_zodiac['Start_Zodiac'][i] <= num_zodiac <= df_zodiac['Finish_Zodiac'][i]:\n",
    "            print(\"Вы однозначно \", df_zodiac['Знак'][i])\n",
    "    else:\n",
    "        if df_zodiac['Start_Zodiac'][i] <= num_zodiac or num_zodiac <= df_zodiac['Finish_Zodiac'][i]:\n",
    "            print(\"Вы однозначно \", df_zodiac['Знак'][i])\n",
    "            \n",
    "print(\"Good bye!\")"
   ]
  },
  {
   "cell_type": "code",
   "execution_count": null,
   "metadata": {},
   "outputs": [],
   "source": []
  }
 ],
 "metadata": {
  "hide_input": false,
  "kernelspec": {
   "display_name": "Python 3",
   "language": "python",
   "name": "python3"
  },
  "toc": {
   "base_numbering": 1,
   "nav_menu": {},
   "number_sections": true,
   "sideBar": true,
   "skip_h1_title": false,
   "title_cell": "Table of Contents",
   "title_sidebar": "Contents",
   "toc_cell": false,
   "toc_position": {},
   "toc_section_display": true,
   "toc_window_display": false
  },
  "varInspector": {
   "cols": {
    "lenName": 16,
    "lenType": 16,
    "lenVar": 40
   },
   "kernels_config": {
    "python": {
     "delete_cmd_postfix": "",
     "delete_cmd_prefix": "del ",
     "library": "var_list.py",
     "varRefreshCmd": "print(var_dic_list())"
    },
    "r": {
     "delete_cmd_postfix": ") ",
     "delete_cmd_prefix": "rm(",
     "library": "var_list.r",
     "varRefreshCmd": "cat(var_dic_list()) "
    }
   },
   "types_to_exclude": [
    "module",
    "function",
    "builtin_function_or_method",
    "instance",
    "_Feature"
   ],
   "window_display": false
  }
 },
 "nbformat": 4,
 "nbformat_minor": 4
}
