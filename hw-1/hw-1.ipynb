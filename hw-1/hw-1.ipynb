{
 "cells": [
  {
   "cell_type": "markdown",
   "metadata": {},
   "source": [
    "# Домашнее задание к лекции \"Основы Python\""
   ]
  },
  {
   "cell_type": "markdown",
   "metadata": {},
   "source": [
    "## Задание 1"
   ]
  },
  {
   "cell_type": "code",
   "execution_count": 355,
   "metadata": {},
   "outputs": [
    {
     "name": "stdout",
     "output_type": "stream",
     "text": [
      "Введите первую фразу: ападвдплвыопд\n",
      "Введите вторую фразу: ыпвыдлпрдлаворплдвырп\n",
      "Фраза 2 длиннее фразы 1\n",
      "Good bye!\n"
     ]
    }
   ],
   "source": [
    "phrase_1 = input('Введите первую фразу: ')\n",
    "phrase_2 = input('Введите вторую фразу: ')\n",
    "\n",
    "if len(phrase_1)>len(phrase_2):\n",
    "    print('Фраза 1 длиннее фразы 2')\n",
    "elif len(phrase_1)<len(phrase_2):\n",
    "    print('Фраза 2 длиннее фразы 1')\n",
    "else:\n",
    "    print('Фразы равной длины')\n",
    "\n",
    "print(\"Good bye!\")"
   ]
  },
  {
   "cell_type": "markdown",
   "metadata": {},
   "source": [
    "## Задание 2"
   ]
  },
  {
   "cell_type": "code",
   "execution_count": 356,
   "metadata": {},
   "outputs": [
    {
     "name": "stdout",
     "output_type": "stream",
     "text": [
      "Введите год: 2020\n",
      "Високосный год\n",
      "Good bye!\n"
     ]
    }
   ],
   "source": [
    "def getNumber_func ():\n",
    "    while True:\n",
    "        getNumber = input('Введите год: ')\n",
    "        if getNumber.isdigit() : return getNumber\n",
    "\n",
    "int_year = getNumber_func()\n",
    "\n",
    "if int(int_year) % 4 == 0 and int(int_year) % 100 != 0 or int(int_year) % 400 == 0:\n",
    "    print('Високосный год')\n",
    "else:\n",
    "    print('Обычный год')\n",
    "    \n",
    "print(\"Good bye!\")"
   ]
  },
  {
   "cell_type": "markdown",
   "metadata": {},
   "source": [
    "## Задание 3"
   ]
  },
  {
   "cell_type": "code",
   "execution_count": 434,
   "metadata": {
    "code_folding": []
   },
   "outputs": [
    {
     "name": "stdout",
     "output_type": "stream",
     "text": [
      "Введите день рождения (от 1 до 31): 20\n",
      "Введите месяц рождения (от 1 до 12): 1\n",
      "Ваш знак зодиака:  Козерог\n",
      "Good bye!\n"
     ]
    }
   ],
   "source": [
    "# исходные данные в виде массива (знак зодиака, период как день, месяц, день, месяц)\n",
    "arr_zodiac = [ \n",
    "            ['Овен', 21, 3, 20, 4],\n",
    "            ['Телец', 21, 4, 21, 5],\n",
    "            ['Близнец', 22, 5, 21, 6],\n",
    "            ['Рак', 22, 6, 22, 7],\n",
    "            ['Лев', 23, 7, 21, 8],\n",
    "            ['Дева', 22, 8, 23, 9],\n",
    "            ['Весы', 24, 9, 23, 10],\n",
    "            ['Скорпион', 24, 10, 22, 11],\n",
    "            ['Стрелец', 23, 11, 22, 12],\n",
    "            ['Козерог', 23, 12, 20, 1],\n",
    "            ['Водолей', 21, 1, 19, 2],\n",
    "            ['Рыба', 20, 2, 20, 3]\n",
    "             ]\n",
    "\n",
    "# загоняем в датафрейм, назначаем имена столбцов\n",
    "df_zodiac = pd.DataFrame(arr_zodiac, columns=['Знак', 'День начала', 'Месяц начала', 'День окончания', 'Месяц окончания'])\n",
    "\n",
    "# пишем функции проверки вводимых значений. тут заранее приношу свои извинения, отошёл немного от ТЗ:\n",
    "# месяц запрашиваю числом, а не текстом. можно, конечно, сделать отдельный массив как по знакам Зодиака, \n",
    "# запрашивать текстом и проверять корректность ввода по нему, а после переводить в числа через тот же \n",
    "# двумерный массив [месяц текстом, месяц числом] - но не стал усложнять свой вариант решения, \n",
    "# как вы увидите ниже - он и так \"оригинален\". надеюсь, зачтёте в таком виде.\n",
    "def getDay_func ():\n",
    "    while True:\n",
    "        getDay = input('Введите день рождения (от 1 до 31): ')\n",
    "        if getDay.isdigit() and int(getDay) >= 1 and int(getDay) <= 31 : return getDay\n",
    "\n",
    "def getMonth_func ():\n",
    "    while True:\n",
    "        getMonth = input('Введите месяц рождения (от 1 до 12): ')\n",
    "        if getMonth.isdigit() and int(getMonth) >= 1 and int(getMonth) <= 12 : return getMonth\n",
    "\n",
    "# запрашиваем вводные данные\n",
    "int_day = int(getDay_func())\n",
    "int_month = int(getMonth_func())\n",
    "\n",
    "# приводим вводные данные в \"оригинальный\" формат\n",
    "num_zodiac=int_month*100+int_day\n",
    "\n",
    "# дополняем датафрейм \"оригинальным\" форматом начала и окончания\n",
    "df_zodiac['Start_Zodiac']=df_zodiac['Месяц начала']*100+df_zodiac['День начала']\n",
    "df_zodiac['Finish_Zodiac']=df_zodiac['Месяц окончания']*100+df_zodiac['День окончания']\n",
    "\n",
    "# циклом проходимся по всему датафрейму и ищем вхождение в рейндж знака зодиака введенных данных\n",
    "# есть в датафрейме запись одна - переход на новый год: там рейндж проверяется иначе, поэтому\n",
    "# от оператора range() в сравнении отказался, чтобы сделать сравнения обычных периодов и \n",
    "# вышеуказанный период однотипными через <=, во втором случае просто разорвав сравнение добавлением or\n",
    "for i in range(len(df_zodiac)):\n",
    "    if df_zodiac['Start_Zodiac'][i] < df_zodiac['Finish_Zodiac'][i]:\n",
    "        if df_zodiac['Start_Zodiac'][i] <= num_zodiac <= df_zodiac['Finish_Zodiac'][i]:\n",
    "            print(\"Ваш знак зодиака: \", df_zodiac['Знак'][i])\n",
    "    else:\n",
    "        if df_zodiac['Start_Zodiac'][i] <= num_zodiac or num_zodiac <= df_zodiac['Finish_Zodiac'][i]:\n",
    "            print(\"Ваш знак зодиака: \", df_zodiac['Знак'][i])\n",
    "            \n",
    "print(\"Good bye!\")"
   ]
  },
  {
   "cell_type": "markdown",
   "metadata": {},
   "source": [
    "## Задание 4"
   ]
  },
  {
   "cell_type": "code",
   "execution_count": 446,
   "metadata": {},
   "outputs": [
    {
     "name": "stdout",
     "output_type": "stream",
     "text": [
      "Введите ширину (см): \n",
      "15\n",
      "Введите длину (см): \n",
      "15\n",
      "Введите высоту (см): \n",
      "15\n",
      "Стандартная коробка №3\n",
      "Good bye!\n"
     ]
    }
   ],
   "source": [
    "# Используйте следующие правила:\n",
    "# если каждое из трех измерений менее 15 сантиметров, то выведите на экран \"Коробка №1\";\n",
    "# если хотя бы одно из измерений больше 15 сантиметров, но менее 50 сантиметров, то выводите \"Коробка №2\";\n",
    "# если длина товара больше 2 метров, то выводите \"Упаковка для лыж\";\n",
    "# во всех остальных случаях выводите \"Стандартная коробка №3\".\n",
    "# - несколько раз это перечитал, получается что 15 см не входят в первые два условия - и это будет коробка 3\n",
    "#   конечно, для тестового задания - норм, но на практике либо первое либо второе условие должно\n",
    "#   включать в себя 15 см. потому как под товар 15*15*15 это явно нужна коробка 2, а не 3\n",
    "\n",
    "def getNumber_func ():\n",
    "    while True:\n",
    "        getNumber = input()\n",
    "        if getNumber.isdigit() : return getNumber\n",
    "\n",
    "print('Введите ширину (см): ')\n",
    "int_1st = int(getNumber_func())\n",
    "print('Введите длину (см): ')\n",
    "int_2nd = int(getNumber_func())\n",
    "print('Введите высоту (см): ')\n",
    "int_3st = int(getNumber_func())\n",
    "\n",
    "if int_1st<15 and int_2nd<15 and int_3st<15:\n",
    "    print('Коробка №1')\n",
    "elif int_2nd>200:\n",
    "    print('Упаковка для лыж')\n",
    "elif 15<int_1st<50 or 15<int_2nd<50 or 15<int_3st<50:\n",
    "    print('Коробка №2')\n",
    "else:    \n",
    "    print('Стандартная коробка №3')\n",
    "\n",
    "print(\"Good bye!\")"
   ]
  },
  {
   "cell_type": "markdown",
   "metadata": {},
   "source": [
    "## Задание 5"
   ]
  },
  {
   "cell_type": "code",
   "execution_count": 520,
   "metadata": {},
   "outputs": [
    {
     "name": "stdout",
     "output_type": "stream",
     "text": [
      "Введите номер билета (6ть знаков): 898898\n",
      "Счастливый билет\n"
     ]
    }
   ],
   "source": [
    "def getNumber_func ():\n",
    "    while True:\n",
    "        getNumber = input('Введите номер билета (6ть знаков): ')\n",
    "        if getNumber.isdigit() and len(getNumber) == 6 : return getNumber\n",
    "\n",
    "int_ticket = getNumber_func()\n",
    "\n",
    "first_sum = 0\n",
    "second_sum = 0\n",
    "\n",
    "for i in (0, 1, 2):\n",
    "    first_sum=first_sum+int(int_ticket[i])\n",
    "\n",
    "for i in (3, 4, 5):\n",
    "    second_sum=second_sum+int(int_ticket[i])\n",
    "    \n",
    "if first_sum == second_sum:\n",
    "    print('Счастливый билет')\n",
    "else:\n",
    "    print('Несчастливый билет')"
   ]
  },
  {
   "cell_type": "markdown",
   "metadata": {},
   "source": [
    "## Задание 6"
   ]
  },
  {
   "cell_type": "code",
   "execution_count": 531,
   "metadata": {},
   "outputs": [
    {
     "name": "stdout",
     "output_type": "stream",
     "text": [
      "Считаем площадь фигур: 1. Круг, 2. Треугольник, 3. Прямоугольник\n",
      "Введите номер фигуры (от 1 до 3): 2\n",
      "Введите длину стороны A: \n",
      "2\n",
      "Введите длину стороны B: \n",
      "2\n",
      "Введите длину стороны C: \n",
      "3\n",
      "Площадь треугольника:  1.98\n"
     ]
    }
   ],
   "source": [
    "# планировал сделать красиво, но это предполагает запрос у пользователя дроп-списка с фигурами\n",
    "# в интернете ничего подобного сходу не нашел, поэтому по-быстрому сделал через цифры\n",
    "\n",
    "import math as mt\n",
    "\n",
    "def getFig_func ():\n",
    "    while True:\n",
    "        getFig = input('Введите номер фигуры (от 1 до 3): ')\n",
    "        if getFig.isdigit() and int(getFig) >= 1 and int(getFig) <= 3 : return getFig\n",
    "\n",
    "def getNumber_func ():\n",
    "    while True:\n",
    "        getNumber = input()\n",
    "        if getNumber.isdigit() : return getNumber\n",
    "\n",
    "fig_type=\"\"\n",
    "fig_square=0\n",
    "pi=3.1415926535897932384626433832795      \n",
    "    \n",
    "print('Считаем площадь фигур: 1. Круг, 2. Треугольник, 3. Прямоугольник')\n",
    "fig_nbr = int(getFig_func())\n",
    "\n",
    "if fig_nbr == 1: #выбран круг\n",
    "    print('Введите радиус круга: ')\n",
    "    int_rad = int(getNumber_func())\n",
    "    fig_type=\"круга: \"\n",
    "    fig_square=pi*int_rad**2\n",
    "elif fig_nbr == 2: #выбран треугольник\n",
    "    print('Введите длину стороны A: ')\n",
    "    int_A = int(getNumber_func())\n",
    "    print('Введите длину стороны B: ')\n",
    "    int_B = int(getNumber_func())\n",
    "    print('Введите длину стороны C: ')\n",
    "    int_C = int(getNumber_func())\n",
    "    fig_type=\"треугольника: \"\n",
    "    p_p=(int_A+int_B+int_C)/2\n",
    "    fig_square=mt.sqrt(p_p*(p_p-int_A)*(p_p-int_B)*(p_p-int_C))\n",
    "else: #выбран прямоугольник\n",
    "    print('Введите длину стороны A: ')\n",
    "    int_A = int(getNumber_func())\n",
    "    print('Введите длину стороны B: ')\n",
    "    int_B = int(getNumber_func())\n",
    "    fig_type=\"прямоугольника: \"\n",
    "    fig_square=int_A*int_B\n",
    "    \n",
    "print('Площадь', fig_type, round(fig_square, 2))\n",
    "\n",
    "#Круг\n",
    "#Введите радиус круга: 10\n",
    "#Результат: Площадь круга: 314.16\n",
    "\n",
    "#Треугольник\n",
    "#Введите длину стороны A: 2\n",
    "#Введите длину стороны B: 2\n",
    "#Введите длину стороны C: 3\n",
    "#Результат: Площадь треугольника: 1.98"
   ]
  }
 ],
 "metadata": {
  "hide_input": false,
  "kernelspec": {
   "display_name": "Python 3",
   "language": "python",
   "name": "python3"
  },
  "toc": {
   "base_numbering": 1,
   "nav_menu": {},
   "number_sections": true,
   "sideBar": true,
   "skip_h1_title": false,
   "title_cell": "Table of Contents",
   "title_sidebar": "Contents",
   "toc_cell": false,
   "toc_position": {},
   "toc_section_display": true,
   "toc_window_display": false
  },
  "varInspector": {
   "cols": {
    "lenName": 16,
    "lenType": 16,
    "lenVar": 40
   },
   "kernels_config": {
    "python": {
     "delete_cmd_postfix": "",
     "delete_cmd_prefix": "del ",
     "library": "var_list.py",
     "varRefreshCmd": "print(var_dic_list())"
    },
    "r": {
     "delete_cmd_postfix": ") ",
     "delete_cmd_prefix": "rm(",
     "library": "var_list.r",
     "varRefreshCmd": "cat(var_dic_list()) "
    }
   },
   "types_to_exclude": [
    "module",
    "function",
    "builtin_function_or_method",
    "instance",
    "_Feature"
   ],
   "window_display": false
  }
 },
 "nbformat": 4,
 "nbformat_minor": 4
}
