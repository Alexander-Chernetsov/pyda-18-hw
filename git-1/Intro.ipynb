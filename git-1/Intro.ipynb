{
 "cells": [
  {
   "cell_type": "markdown",
   "metadata": {},
   "source": [
    "# Домашнее задание к лекции \"Настройка среды и работа с GIT\""
   ]
  },
  {
   "cell_type": "markdown",
   "metadata": {},
   "source": [
    "## Задание 1"
   ]
  },
  {
   "cell_type": "markdown",
   "metadata": {},
   "source": [
    "Мы должны удостовериться, что вы установили требуемое ПО перед содержательной частью курса. Необходимо прикрепить скриншот запущенного Jupyter Notebook на вашем ПК. Можно использовать сервис https://pastenow.ru/."
   ]
  },
  {
   "cell_type": "markdown",
   "metadata": {},
   "source": [
    " [Скриншот запущенного Jupyter Notebook](http://joxi.ru/5mdaVapc89n8l2)"
   ]
  },
  {
   "cell_type": "markdown",
   "metadata": {},
   "source": [
    "## Задание 2"
   ]
  },
  {
   "cell_type": "markdown",
   "metadata": {},
   "source": [
    "### Обязательная часть"
   ]
  },
  {
   "cell_type": "markdown",
   "metadata": {},
   "source": [
    "Пришлите скриншоты, которые будут демонстрировать, что вы прошли первые 4 уровня из раздела \"Основы\" и первые 6 уровней из раздела \"Удаленные репозитории\" на [интерактивном тренажере Git](https://learngitbranching.js.org/?locale=ru_RU)."
   ]
  },
  {
   "cell_type": "markdown",
   "metadata": {},
   "source": [
    "+ http://joxi.ru/KAxWDWRiKxLKk2\n",
    "+ http://joxi.ru/a2XJgJyt4PLlDr"
   ]
  },
  {
   "cell_type": "markdown",
   "metadata": {},
   "source": [
    "### Дополнительная часть (необязательная)"
   ]
  },
  {
   "cell_type": "markdown",
   "metadata": {},
   "source": [
    "Пришлите скриншоты, которые будут демонстрировать, что вы выполнили все упражнения на [интерактивном тренажере Git](https://learngitbranching.js.org/?locale=ru_RU)."
   ]
  },
  {
   "cell_type": "markdown",
   "metadata": {},
   "source": [
    "## Задание 3"
   ]
  },
  {
   "cell_type": "markdown",
   "metadata": {},
   "source": [
    "Подготовьте и пришлите ссылку на репозиторий, в котором вы будете размещать домашние работы по курсу. Структура репозитория может быть любая, но самый очевидный вариант – своя отдельная папка для каждой лекции.  \n",
    "*Внимание!* Git не работает с пустыми папками. О том, как решить эту проблему, можете почитать, например, [здесь](https://ru.stackoverflow.com/questions/623608/%d0%9a%d0%b0%d0%ba-%d0%b4%d0%be%d0%b1%d0%b0%d0%b2%d0%b8%d1%82%d1%8c-%d0%bf%d1%83%d1%81%d1%82%d1%83%d1%8e-%d0%bf%d0%b0%d0%bf%d0%ba%d1%83-%d0%b2-%d1%80%d0%b5%d0%bf%d0%be%d0%b7%d0%b8%d1%82%d0%be%d1%80%d0%b8%d0%b8-git).  \n"
   ]
  },
  {
   "cell_type": "markdown",
   "metadata": {},
   "source": [
    "[Ссылка на мой репозиторий](https://github.com/Alexander-Chernetsov/pyda-18-hw)"
   ]
  },
  {
   "cell_type": "markdown",
   "metadata": {},
   "source": [
    "## Задание 4 (необязательное)"
   ]
  },
  {
   "cell_type": "markdown",
   "metadata": {},
   "source": [
    "Если вы еще недостаточно уверенно чувствуете себя в работе в командной строке, то изучите [разнообразие доступных графических клиентов для Git](https://techrocks.ru/2020/04/24/best-git-gui-for-mac-linux-windows/). Выберете и освойте любой из них и напишите об этом."
   ]
  },
  {
   "cell_type": "markdown",
   "metadata": {},
   "source": [
    "Учитывая нулевые знания в данной области и опираясь на внешний вид графических клиентов, бесплатность\n",
    "(так как не являюсь профессиональным пользователем) и используемую мною OS - Windows\n",
    "мой выбор пал на 4. Sourcetree (https://www.sourcetreeapp.com/)."
   ]
  }
 ],
 "metadata": {
  "hide_input": false,
  "kernelspec": {
   "display_name": "Python 3",
   "language": "python",
   "name": "python3"
  },
  "language_info": {
   "codemirror_mode": {
    "name": "ipython",
    "version": 3
   },
   "file_extension": ".py",
   "mimetype": "text/x-python",
   "name": "python",
   "nbconvert_exporter": "python",
   "pygments_lexer": "ipython3",
   "version": "3.8.5"
  },
  "toc": {
   "base_numbering": 1,
   "nav_menu": {},
   "number_sections": true,
   "sideBar": true,
   "skip_h1_title": false,
   "title_cell": "Table of Contents",
   "title_sidebar": "Contents",
   "toc_cell": false,
   "toc_position": {},
   "toc_section_display": true,
   "toc_window_display": false
  },
  "varInspector": {
   "cols": {
    "lenName": 16,
    "lenType": 16,
    "lenVar": 40
   },
   "kernels_config": {
    "python": {
     "delete_cmd_postfix": "",
     "delete_cmd_prefix": "del ",
     "library": "var_list.py",
     "varRefreshCmd": "print(var_dic_list())"
    },
    "r": {
     "delete_cmd_postfix": ") ",
     "delete_cmd_prefix": "rm(",
     "library": "var_list.r",
     "varRefreshCmd": "cat(var_dic_list()) "
    }
   },
   "types_to_exclude": [
    "module",
    "function",
    "builtin_function_or_method",
    "instance",
    "_Feature"
   ],
   "window_display": false
  }
 },
 "nbformat": 4,
 "nbformat_minor": 2
}
