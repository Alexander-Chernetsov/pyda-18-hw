{
 "cells": [
  {
   "cell_type": "markdown",
   "metadata": {},
   "source": [
    "Добрый день, спасибо за решения.\n",
    "Все верно.\n",
    "\n",
    "В первом задании в файле purchase_log.txt можно пропустить первую строку с \"заголовком\" с помощью next(f) или f.readline().\n",
    "\n",
    "Также лучше не считывать содержимое файла purchaselog.txt в оперативную память в строчке `contentpl = open('purchaselog.txt', 'r', encoding='utf-8').readlines(). А читать файл построчно:\n",
    "``\n",
    "contentpl = open('purchase_log.txt', 'r', encoding='utf-8')\n",
    "\n",
    "contentpl.readline()\n",
    "for line in contentpl:\n",
    "# остальной код\n",
    "```\n",
    "По условию файл purchase_log.txt помещается в оперативную память. Но не факт, что памяти хватит еще и на словарь purchases, который тоже может получиться большим."
   ]
  },
  {
   "cell_type": "markdown",
   "metadata": {},
   "source": [
    "### Переведите содержимое файла purchase_log.txt* в словарь purchases вида: {‘1840e0b9d4’: ‘Продукты’, …}\n",
    "###### *содержимое purchase_log.txt помещается в оперативную память компьютера"
   ]
  },
  {
   "cell_type": "code",
   "execution_count": 152,
   "metadata": {},
   "outputs": [],
   "source": [
    "import json\n",
    "purchases={}\n",
    "\n",
    "content_pl = open('purchase_log.txt', 'r', encoding='utf-8').readlines()\n",
    "\n",
    "for i, line in enumerate(content_pl):\n",
    "    line = line.strip()\n",
    "    dict_ = json.loads(line)\n",
    "    if i > 0: # заголовки отсекаем\n",
    "        purchases[dict_['user_id']]=dict_['category']"
   ]
  },
  {
   "cell_type": "markdown",
   "metadata": {},
   "source": [
    "### Для каждого user_id в файле visit_log.csv* определите третий столбец с категорией покупки (если покупка была, сам файл visit_log.csv изменять не надо). Запишите в файл funnel.csv визиты из файла visit_log.csv, в которых были покупки с указанием категории.\n",
    "###### * содержимое visit_log.csv - нет; используйте только построчную обработку этого файла"
   ]
  },
  {
   "cell_type": "code",
   "execution_count": 175,
   "metadata": {},
   "outputs": [],
   "source": [
    "# понял задачу так: нам нужен файл по типу visit_log, \n",
    "# но с третьим столбцом (категория покупки), назвать файл funnel.\n",
    "# добавлять в него данные из visit_log только если в словаре purchases есть соотвествующий визит\n",
    "\n",
    "i = 0\n",
    "\n",
    "with open('visit_log.csv', 'r') as vl:\n",
    "    with open('funnel.csv', 'w') as fnl:\n",
    "        for line in vl:\n",
    "            line = line.strip().split(',')\n",
    "            if purchases.get(line[0]) is not None:\n",
    "                fnl.write(f'{line[0]}, {line[1]}, {purchases.get(line[0])}\\n')\n",
    "#            i += 1\n",
    "#            if i > 245:\n",
    "#                break\n",
    "\n",
    "fnl.close()\n",
    "vl.close()          "
   ]
  }
 ],
 "metadata": {
  "kernelspec": {
   "display_name": "Python 3",
   "language": "python",
   "name": "python3"
  },
  "language_info": {
   "codemirror_mode": {
    "name": "ipython",
    "version": 3
   },
   "file_extension": ".py",
   "mimetype": "text/x-python",
   "name": "python",
   "nbconvert_exporter": "python",
   "pygments_lexer": "ipython3",
   "version": "3.8.5"
  }
 },
 "nbformat": 4,
 "nbformat_minor": 4
}
