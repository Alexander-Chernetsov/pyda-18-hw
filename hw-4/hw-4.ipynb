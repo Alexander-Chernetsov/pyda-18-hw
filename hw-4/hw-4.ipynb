{
 "cells": [
  {
   "cell_type": "markdown",
   "metadata": {},
   "source": [
    "Вам нужно помочь секретарю автоматизировать работу: \n",
    "необходимо написать программу, которая будет на основе хранимых данных исполнять пользовательские команды.\n",
    "(если документ есть в documents, то он обязательно должен быть и в directories)\n",
    "пользовательский ввод обрабатывается в цикле while до тех пор, пока пользователь явно не завершит программу (вводом команды “q”).\n",
    "\n",
    "Пункт 1. Пользователь по команде “p” может узнать владельца документа по его номеру\n",
    "Пункт 2. Пользователь по команде “s” может по номеру документа узнать на какой полке он хранится\n",
    "Пункт 3. Пользователь по команде “l” может увидеть полную информацию по всем документам\n",
    "Пункт 4. Пользователь по команде “as” может добавить новую полку\n",
    "Пункт 5. Пользователь по команде “ds” может удалить существующую полку из данных (только если она пустая)\n",
    "Пункт 6. Пользователь по команде “ad” может добавить новый документ в данные\n",
    "Пункт 7. Пользователь по команде “d” может удалить документ из данных\n",
    "Пункт 8. Пользователь по команде “m” может переместить документ с полки на полку"
   ]
  },
  {
   "cell_type": "code",
   "execution_count": 60,
   "metadata": {},
   "outputs": [],
   "source": [
    "# список документов/данных\n",
    "documents = [\n",
    "            {'type': 'passport', 'number': '2207 876234', 'name': 'Василий Гупкин'},\n",
    "            {'type': 'invoice', 'number': '11-2', 'name': 'Геннадий Покемонов'},\n",
    "            {'type': 'insurance', 'number': '10006', 'name': 'Аристарх Павлов'}\n",
    "            ]\n",
    "\n",
    "# список полок документов\n",
    "directories =   {\n",
    "                1: ['2207 876234', '11-2'],\n",
    "                2: ['10006'],\n",
    "                3: []\n",
    "                }\n",
    "\n",
    "#documents.append({'type': 'passport_1', 'number': '2207 876234_1', 'name': 'Василий Гупкин_1'})\n",
    "#documents.remove({'type': 'invoice', 'number': '11-2', 'name': 'Геннадий Покемонов'})"
   ]
  },
  {
   "cell_type": "code",
   "execution_count": 158,
   "metadata": {},
   "outputs": [
    {
     "data": {
      "text/plain": [
       "[{'type': 'passport', 'number': '2207 876234', 'name': 'Василий Гупкин'},\n",
       " {'type': 'invoice', 'number': '11-2', 'name': 'Геннадий Покемонов'},\n",
       " {'type': 'insurance', 'number': '10006', 'name': 'Аристарх Павлов'}]"
      ]
     },
     "execution_count": 158,
     "metadata": {},
     "output_type": "execute_result"
    }
   ],
   "source": [
    "documents"
   ]
  },
  {
   "cell_type": "code",
   "execution_count": 184,
   "metadata": {},
   "outputs": [
    {
     "name": "stdin",
     "output_type": "stream",
     "text": [
      "Введите номер документа: 10006\n"
     ]
    },
    {
     "name": "stdout",
     "output_type": "stream",
     "text": [
      "Владелец документа: Аристарх Павлов\n"
     ]
    }
   ],
   "source": []
  },
  {
   "cell_type": "code",
   "execution_count": 186,
   "metadata": {},
   "outputs": [],
   "source": [
    "# задаём все указанные в задаче \"возможности\" через соответствующие функции\n",
    "\n",
    "def doc_owner(x=True):\n",
    "    \"\"\"\n",
    "    Пользователь по команде “p” может узнать владельца документа по его номеру\n",
    "    \"\"\"\n",
    "    \n",
    "    found = False\n",
    "    p = input('Введите номер документа:')\n",
    "\n",
    "    for items in documents:\n",
    "        if p == items.get('number'): \n",
    "            print(f\"Владелец документа: {items.get('name')}\")\n",
    "            found = True \n",
    "            break\n",
    "\n",
    "    if found == False: print('Документ не найден в базе')\n",
    "    \n",
    "    return True\n",
    "\n",
    "def doc_shelf(x=True):\n",
    "    \"\"\"\n",
    "    Пользователь по команде “s” может по номеру документа узнать на какой полке он хранится\n",
    "    \"\"\"\n",
    "    \n",
    "    print('s')\n",
    "    \n",
    "    return True\n",
    "\n",
    "def doc_lists(x=True):\n",
    "    \"\"\"\n",
    "    Пользователь по команде “l” может увидеть полную информацию по всем документам\n",
    "    \"\"\"\n",
    "    print('l')\n",
    "    return True\n",
    "\n",
    "def doc_add(x=True):\n",
    "    \"\"\"\n",
    "    Пользователь по команде “ad” может добавить новый документ в данные\n",
    "    \"\"\"\n",
    "    print('ad')\n",
    "    return True\n",
    "\n",
    "def doc_del(x=True):\n",
    "    \"\"\"\n",
    "    Пользователь по команде “d” может удалить документ из данных\n",
    "    \"\"\"\n",
    "    print('d')\n",
    "    return True\n",
    "\n",
    "def shelf_add(x=True):\n",
    "    \"\"\"\n",
    "    Пользователь по команде “as” может добавить новую полку\n",
    "    \"\"\"\n",
    "    print('as')\n",
    "    return True\n",
    "\n",
    "def shelf_del(x=True):\n",
    "    \"\"\"\n",
    "    Пользователь по команде “ds” может удалить существующую полку из данных (только если она пустая)\n",
    "    \"\"\"\n",
    "    print('ds')\n",
    "    return True\n",
    "\n",
    "def shelf_mov(x=True):\n",
    "    \"\"\"\n",
    "    Пользователь по команде “m” может переместить документ с полки на полку\n",
    "    \"\"\"\n",
    "    print('m')\n",
    "    return True\n",
    "\n",
    "def exit(x):\n",
    "    \"\"\"\n",
    "    Функция выхода из меню/цикла\n",
    "    \"\"\"\n",
    "    print(\"Спасибо за Вашу работу!\")\n",
    "    return False\n",
    "\n",
    "# добавляем парочку своих\n",
    "\n",
    "def zero_command(x=True):\n",
    "    \"\"\"\n",
    "    Функция \"отсутствующей команды\"\n",
    "    \"\"\"\n",
    "    print(\"Нет такой команды! Попробуйте вызвать справку!\")\n",
    "    return True\n",
    "\n",
    "def help_us(x=True):\n",
    "    \"\"\"\n",
    "    Функция помощи с перечнем возможных команд\n",
    "    \"\"\"\n",
    "    print('''\n",
    "            Помощь начинающему секретарю:\n",
    "            1. Пользователь по команде “p” может узнать владельца документа по его номеру\n",
    "            2. Пользователь по команде “s” может по номеру документа узнать на какой полке он хранится\n",
    "            3. Пользователь по команде “l” может увидеть полную информацию по всем документам\n",
    "            4. Пользователь по команде “as” может добавить новую полку\n",
    "            5. Пользователь по команде “ds” может удалить существующую полку из данных (только если она пустая)\n",
    "            6. Пользователь по команде “ad” может добавить новый документ в данные\n",
    "            7. Пользователь по команде “d” может удалить документ из данных\n",
    "            8. Пользователь по команде “m” может переместить документ с полки на полку    \n",
    "        ''')\n",
    "    return True\n",
    "\n",
    "# создаем словарь доступных команд пользователя и соответствующих функций (включая служебные help и zero_command)\n",
    "# решение красивое на столько, что сам тащюсь от своей идеи :)\n",
    "\n",
    "commands = {'p': doc_owner,\n",
    "            's': doc_shelf,\n",
    "            'l': doc_lists,\n",
    "            'ad': doc_add,\n",
    "            'd': doc_del,\n",
    "            'as': shelf_add,\n",
    "            'ds': shelf_del,\n",
    "            'm': shelf_mov,\n",
    "            'help': help_us,\n",
    "            'zero': zero_command,\n",
    "            'q': exit\n",
    "            }\n",
    "\n",
    "par = True\n",
    "\n",
    "while par == True: # одной командой в цикле создал меню\n",
    "    par = commands.get(input('Введите команду: (help - для вывода справки, q - для выхода)'), zero_command)(par)\n",
    "\n",
    "    # вариант по-проще в читаемости\n",
    "    # get_command = input('Введите команду: (help - для вывода справки, q - для выхода)')\n",
    "    # par = commands.get(get_command, zero_command)(par)"
   ]
  },
  {
   "cell_type": "code",
   "execution_count": 187,
   "metadata": {},
   "outputs": [
    {
     "name": "stdin",
     "output_type": "stream",
     "text": [
      "Введите команду: (help - для вывода справки, q - для выхода) p\n",
      "Введите номер документа: 11-2\n"
     ]
    },
    {
     "name": "stdout",
     "output_type": "stream",
     "text": [
      "Владелец документа: Геннадий Покемонов\n"
     ]
    },
    {
     "name": "stdin",
     "output_type": "stream",
     "text": [
      "Введите команду: (help - для вывода справки, q - для выхода) p\n",
      "Введите номер документа: 10006\n"
     ]
    },
    {
     "name": "stdout",
     "output_type": "stream",
     "text": [
      "Владелец документа: Аристарх Павлов\n"
     ]
    },
    {
     "name": "stdin",
     "output_type": "stream",
     "text": [
      "Введите команду: (help - для вывода справки, q - для выхода) p\n",
      "Введите номер документа: 123549\n"
     ]
    },
    {
     "name": "stdout",
     "output_type": "stream",
     "text": [
      "Документ не найден в базе\n"
     ]
    },
    {
     "name": "stdin",
     "output_type": "stream",
     "text": [
      "Введите команду: (help - для вывода справки, q - для выхода) q\n"
     ]
    },
    {
     "name": "stdout",
     "output_type": "stream",
     "text": [
      "Спасибо за Вашу работу!\n"
     ]
    }
   ],
   "source": [
    "par = True\n",
    "\n",
    "while par == True: # одной командой в цикле создал меню\n",
    "    par = commands.get(input('Введите команду: (help - для вывода справки, q - для выхода)'), zero_command)(par)\n",
    "\n",
    "    # вариант по-проще в читаемости\n",
    "    # get_command = input('Введите команду: (help - для вывода справки, q - для выхода)')\n",
    "    # par = commands.get(get_command, zero_command)(par)"
   ]
  },
  {
   "cell_type": "code",
   "execution_count": null,
   "metadata": {},
   "outputs": [],
   "source": []
  },
  {
   "cell_type": "code",
   "execution_count": 59,
   "metadata": {},
   "outputs": [
    {
     "data": {
      "text/plain": [
       "{'type': 'invoice', 'number': '11-2', 'name': 'Геннадий Покемонов'}"
      ]
     },
     "execution_count": 59,
     "metadata": {},
     "output_type": "execute_result"
    }
   ],
   "source": [
    "documents[1]"
   ]
  },
  {
   "cell_type": "code",
   "execution_count": 57,
   "metadata": {},
   "outputs": [
    {
     "name": "stdout",
     "output_type": "stream",
     "text": [
      "10006\n"
     ]
    }
   ],
   "source": [
    "print(documents[2].get('number'))"
   ]
  },
  {
   "cell_type": "code",
   "execution_count": 32,
   "metadata": {},
   "outputs": [
    {
     "name": "stdout",
     "output_type": "stream",
     "text": [
      "[{'type': 'insurance', 'number': '10006', 'name': 'Аристарх Павлов'}]\n"
     ]
    }
   ],
   "source": [
    "print(documents)"
   ]
  }
 ],
 "metadata": {
  "kernelspec": {
   "display_name": "Python 3",
   "language": "python",
   "name": "python3"
  },
  "language_info": {
   "codemirror_mode": {
    "name": "ipython",
    "version": 3
   },
   "file_extension": ".py",
   "mimetype": "text/x-python",
   "name": "python",
   "nbconvert_exporter": "python",
   "pygments_lexer": "ipython3",
   "version": "3.8.5"
  }
 },
 "nbformat": 4,
 "nbformat_minor": 4
}
