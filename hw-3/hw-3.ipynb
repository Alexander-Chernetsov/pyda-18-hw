{
 "cells": [
  {
   "cell_type": "markdown",
   "metadata": {},
   "source": [
    "### Задание 1"
   ]
  },
  {
   "cell_type": "code",
   "execution_count": 308,
   "metadata": {},
   "outputs": [
    {
     "name": "stdout",
     "output_type": "stream",
     "text": [
      "[213, 15, 54, 119, 98, 35]\n"
     ]
    }
   ],
   "source": [
    "ids = {\n",
    "    'user1': [213, 213, 213, 15, 213],\n",
    "    'user2': [54, 54, 119, 119, 119],\n",
    "    'user3': [213, 98, 98, 35]\n",
    "      }\n",
    "\n",
    "list_ids = list(ids.values()) # переводим словарь в список\n",
    "list_of_geo=[] # создаем новый список для уникальных значений\n",
    "\n",
    "for i in range(len(list_ids)): # цикл по количеству записей в списке\n",
    "    for j in range(len(list_ids[i])): # цикл по количеству записей в записи\n",
    "        if list_ids[i][j] not in list_of_geo: # если значения нет в уникальном списке\n",
    "            list_of_geo.append(list_ids[i][j]) # добавляем его туда\n",
    "\n",
    "print(list_of_geo) # выводим список уникальных значений"
   ]
  },
  {
   "cell_type": "markdown",
   "metadata": {},
   "source": [
    "### Задание 2"
   ]
  },
  {
   "cell_type": "code",
   "execution_count": 309,
   "metadata": {},
   "outputs": [
    {
     "name": "stdout",
     "output_type": "stream",
     "text": [
      "Поисковых запросов, содержащих  3 слов(а):  57.14 %\n",
      "Поисковых запросов, содержащих  2 слов(а):  42.86 %\n"
     ]
    }
   ],
   "source": [
    "queries = [\n",
    "        'смотреть сериалы онлайн',\n",
    "        'новости спорта',\n",
    "        'афиша кино',\n",
    "        'курс доллара',\n",
    "        'сериалы этим летом',\n",
    "        'курс по питону',\n",
    "        'сериалы про спорт'\n",
    "        ]\n",
    "\n",
    "queries_list = [] # создаём пустой список\n",
    "[queries_list.append(i.split()) for i in queries] # переносим в него исходные данные\n",
    "\n",
    "queries_dic = {} # создаем словарь\n",
    "\n",
    "for i in range(len(queries_list)): # цикл по количеству записей в списке\n",
    "    if len(queries_list[i]) in queries_dic: # если количество слов в запросе уже есть в словаре\n",
    "        queries_dic[len(queries_list[i])] += 1 # добавляем единицу к значению\n",
    "    else:\n",
    "        queries_dic[len(queries_list[i])] = 1 # иначе заносим в словарь\n",
    "\n",
    "for key in queries_dic: # проходимся по словарю \n",
    "   print('Поисковых запросов, содержащих ', key, 'слов(а): ', round(queries_dic[key]/sum(queries_dic.values())*100, 2), '%') # выводим требуемую информацию"
   ]
  },
  {
   "cell_type": "markdown",
   "metadata": {},
   "source": [
    "### Задание 3"
   ]
  },
  {
   "cell_type": "code",
   "execution_count": 310,
   "metadata": {},
   "outputs": [
    {
     "name": "stdout",
     "output_type": "stream",
     "text": [
      "{'vk': {'revenue': 103, 'cost': 98, 'ROI': 5.1}, 'yandex': {'revenue': 179, 'cost': 153, 'ROI': 16.99}, 'facebook': {'revenue': 103, 'cost': 110, 'ROI': -6.36}, 'adwords': {'revenue': 35, 'cost': 34, 'ROI': 2.94}, 'twitter': {'revenue': 11, 'cost': 24, 'ROI': -54.17}}\n"
     ]
    }
   ],
   "source": [
    "results = {\n",
    "        'vk': {'revenue': 103, 'cost': 98},\n",
    "        'yandex': {'revenue': 179, 'cost': 153},\n",
    "        'facebook': {'revenue': 103, 'cost': 110},\n",
    "        'adwords': {'revenue': 35, 'cost': 34},\n",
    "        'twitter': {'revenue': 11, 'cost': 24},\n",
    "        }\n",
    "\n",
    "for i in results:\n",
    "    results[i]['ROI'] = round((results[i]['revenue'] / results[i]['cost'] - 1) * 100, 2)\n",
    "print(results)"
   ]
  },
  {
   "cell_type": "markdown",
   "metadata": {},
   "source": [
    "### Задание 4"
   ]
  },
  {
   "cell_type": "code",
   "execution_count": 311,
   "metadata": {},
   "outputs": [
    {
     "name": "stdout",
     "output_type": "stream",
     "text": [
      "Максимальный объем продаж на рекламном канале:  vk\n"
     ]
    }
   ],
   "source": [
    "stats = {'facebook': 55, 'yandex': 115, 'vk': 120, 'google': 99, 'email': 42, 'ok': 98}\n",
    "\n",
    "# подсмотрел в интернете решение:\n",
    "#print('Максимальный объем продаж на рекламном канале: ', max(stats, key=stats.get))\n",
    "\n",
    "# но мы такого не проходили, поэтому пишу как проходили\n",
    "max_val = 0 # как вариант реализации, но тоже не проходили - max(stats.values())\n",
    "channel = \"\"\n",
    "\n",
    "for key in stats:\n",
    "    if stats[key] > max_val:\n",
    "        max_val = stats[key]\n",
    "        channel = key\n",
    "\n",
    "print('Максимальный объем продаж на рекламном канале: ', channel)"
   ]
  }
 ],
 "metadata": {
  "kernelspec": {
   "display_name": "Python 3",
   "language": "python",
   "name": "python3"
  },
  "language_info": {
   "codemirror_mode": {
    "name": "ipython",
    "version": 3
   },
   "file_extension": ".py",
   "mimetype": "text/x-python",
   "name": "python",
   "nbconvert_exporter": "python",
   "pygments_lexer": "ipython3",
   "version": "3.8.5"
  }
 },
 "nbformat": 4,
 "nbformat_minor": 4
}
