{
 "cells": [
  {
   "cell_type": "markdown",
   "metadata": {},
   "source": [
    "# Домашнее задание к лекции \"Регулярные выражения\"\n",
    "\n",
    "Внимание! При реализации всех заданий необходимо использовать именно функционал регулярных выражений для обработки текста."
   ]
  },
  {
   "cell_type": "code",
   "execution_count": 15,
   "metadata": {},
   "outputs": [],
   "source": [
    "import re"
   ]
  },
  {
   "cell_type": "markdown",
   "metadata": {},
   "source": [
    "## Задание 1\n",
    "\n",
    "Напишите функцию, которая принимает на вход строку и проверяет является ли она валидным транспортным номером (1 буква, 3 цифры, 2 буквы, 2-3 цифры). Обратите внимание, что не все буквы кириллического алфавита используются в транспортных номерах.\n",
    "\n",
    "Если номер валиден, то функция должна возвращать отдельно номер и регион.\n",
    "\n",
    "Примеры работы программы:  \n",
    "\n",
    "1. `car_id = 'АВ222С96'`\n",
    "\n",
    "Результат: \n",
    "`Номер АВ222С валиден. Регион: 96`\n",
    "\n",
    "2. `car_id = 'АБ22ВВ193'`\n",
    "\n",
    "Результат: \n",
    "`Номер не валиден`"
   ]
  },
  {
   "cell_type": "code",
   "execution_count": 133,
   "metadata": {},
   "outputs": [
    {
     "name": "stdout",
     "output_type": "stream",
     "text": [
      "0 Номер АВ222С96 валиден. Регион: 96\n",
      "1 Номер АБ22ВВ193 не валиден\n"
     ]
    }
   ],
   "source": [
    "# реализовал возможность проверки списка номеров\n",
    "car_ids = ['АВ222С96', 'АБ22ВВ193']\n",
    "# реализовал проверку как по кириллическим буквам, так и по их латинским аналогам\n",
    "regex_car_id = r'([АВЕКМНОРСТУХ]|[ABEKMHOPCTYX]{2})(\\d{3})([АВЕКМНОРСТУХ]|[ABEKMHOPCTYX]{1})(\\d{2})'\n",
    "\n",
    "for i, car_id in enumerate(car_ids):\n",
    "    car_check_result = re.search(regex_car_id, car_id)\n",
    "    if car_check_result == None:\n",
    "        print(i, f'Номер {car_id} не валиден') # так как реализовал проверку списка номеров, немного изменил формат выдачи \"ошибочного\" номера относительно поставленной задачи\n",
    "    else:\n",
    "        print(i, f'Номер {car_id} валиден. Регион: {car_check_result[4]}')"
   ]
  },
  {
   "cell_type": "markdown",
   "metadata": {},
   "source": [
    "## Задание 2\n",
    "\n",
    "Напишите функцию, которая будет удалять все последовательные повторы слов из заданной строки при помощи регулярных выражений.\n",
    "\n",
    "Пример работы программы:  \n",
    "\n",
    "`some_string = 'Напишите функцию функцию, которая будет будет будет будет удалять все все все все последовательные повторы слов из из из из заданной строки строки при помощи регулярных выражений'`\n",
    "\n",
    "Результат: \n",
    "`Напишите функцию, которая будет удалять все последовательные повторы слов из заданной строки при помощи регулярных выражений.`"
   ]
  },
  {
   "cell_type": "code",
   "execution_count": 110,
   "metadata": {},
   "outputs": [
    {
     "data": {
      "text/plain": [
       "'Напишите функцию, которая будет удалять все последовательные повторы слов из заданной строки при помощи регулярных выражений'"
      ]
     },
     "execution_count": 110,
     "metadata": {},
     "output_type": "execute_result"
    }
   ],
   "source": [
    "some_string = 'Напишите функцию функцию, которая будет будет будет будет удалять все все все все последовательные повторы слов из из из из заданной строки строки при помощи регулярных выражений'\n",
    "re.sub(r'\\b(\\w+)(?:\\s+\\1\\b)+', r'\\1', some_string)"
   ]
  },
  {
   "cell_type": "markdown",
   "metadata": {},
   "source": [
    "## Задание 3\n",
    "\n",
    "Напишите функцию, которая будет возвращать акроним по переданной в нее строке со словами.\n",
    "\n",
    "Примеры работы программы:  \n",
    "\n",
    "1. `some_words = 'Информационные технологии'`\n",
    "\n",
    "Результат: \n",
    "`ИТ`\n",
    "\n",
    "2. `some_words = 'Near Field Communication'`\n",
    "\n",
    "Результат: \n",
    "`NFC`"
   ]
  },
  {
   "cell_type": "code",
   "execution_count": 132,
   "metadata": {},
   "outputs": [
    {
     "name": "stdout",
     "output_type": "stream",
     "text": [
      "ИТ\n",
      "NFC\n"
     ]
    }
   ],
   "source": [
    "# реализовал возможность проверки списка строк\n",
    "some_words_list = ['Информационные технологии', 'Near Field Communication']\n",
    "\n",
    "for i, list in enumerate(some_words_list):\n",
    "    print(''.join(re.findall(r'\\b\\w', list)).upper()) \n",
    "# понимаю, что выглядит как костыль, но ничего лучшего придумать не смог\n",
    "# буду признателен, если подскажите более изящные альтернативы"
   ]
  },
  {
   "cell_type": "markdown",
   "metadata": {},
   "source": [
    "## Задание 4\n",
    "\n",
    "Напишите функцию, которая будет принимать на вход список email-адресов и выводить их распределение по доменным зонам.\n",
    "\n",
    "Пример работы программы:  \n",
    "\n",
    "`emails = ['test@gmail.com, xyz@test.in, test@ya.ru, xyz@mail.ru, xyz@ya.ru', xyz@gmail.com]`\n",
    "\n",
    "Результат: \n",
    "```\n",
    "gmail.com: 2\n",
    "test.in: 1 \n",
    "ya.ru: 2 \n",
    "mail.ru: 1\n",
    "```"
   ]
  },
  {
   "cell_type": "code",
   "execution_count": 152,
   "metadata": {},
   "outputs": [
    {
     "name": "stdout",
     "output_type": "stream",
     "text": [
      "0 e-mail test@gmail.com валиден. Домен: gmail.com\n",
      "1 e-mail xyz@test.in валиден. Домен: test.in\n",
      "2 e-mail test@ya.ru валиден. Домен: ya.ru\n",
      "3 e-mail xyz@mail.ru валиден. Домен: mail.ru\n",
      "4 e-mail xyz@ya.ru валиден. Домен: ya.ru\n",
      "5 e-mail xyz@gmail.com валиден. Домен: gmail.com\n",
      "gmail.com: 2\n",
      "test.in: 1\n",
      "ya.ru: 2\n",
      "mail.ru: 1\n"
     ]
    }
   ],
   "source": [
    "# задаём список email-адресов\n",
    "emails = ['test@gmail.com', 'xyz@test.in', 'test@ya.ru', 'xyz@mail.ru', 'xyz@ya.ru', 'xyz@gmail.com']\n",
    "# задаем маску через регулярные выражения\n",
    "regex_emails = r'(\\w+\\@)(\\w+\\.\\w{2,3})'\n",
    "# объявляем словарь\n",
    "emails_dic = {}\n",
    "\n",
    "for i, email in enumerate(emails):\n",
    "    email_check_result = re.search(regex_emails, email)\n",
    "    if email_check_result == None: # реализовал дополнительную проверку валидности email-адреса с выводом результата проверки\n",
    "        print(i, f'e-mail {email} не валиден')\n",
    "    else:\n",
    "        # для лаконичности кода вводим переменную, хранящую домен\n",
    "        domain = email_check_result[2]\n",
    "        # это можно закомментить и будет выдача как в задании\n",
    "        print(i, f'e-mail {email} валиден. Домен: {domain}')\n",
    "        if emails_dic.get(domain) == None: # если email-адрес валиден и домена нет в словаре\n",
    "            emails_dic[domain] = 1 # заносим пару в словарь\n",
    "        else:\n",
    "            emails_dic[domain] += 1 # если домен есть - увеличиваем значение на единицу\n",
    "            \n",
    "for key, value in emails_dic.items(): # выводим по маске на экран\n",
    "    print(f'{key}: {value}')"
   ]
  },
  {
   "cell_type": "code",
   "execution_count": null,
   "metadata": {},
   "outputs": [],
   "source": []
  }
 ],
 "metadata": {
  "kernelspec": {
   "display_name": "Python 3",
   "language": "python",
   "name": "python3"
  },
  "language_info": {
   "codemirror_mode": {
    "name": "ipython",
    "version": 3
   },
   "file_extension": ".py",
   "mimetype": "text/x-python",
   "name": "python",
   "nbconvert_exporter": "python",
   "pygments_lexer": "ipython3",
   "version": "3.8.5"
  }
 },
 "nbformat": 4,
 "nbformat_minor": 4
}
